{
 "cells": [
  {
   "cell_type": "code",
   "execution_count": 1,
   "id": "09224452",
   "metadata": {},
   "outputs": [],
   "source": [
    "# ignore warnings\n",
    "import warnings\n",
    "import pandas as pd\n",
    "warnings.filterwarnings(\"ignore\")\n",
    "\n",
    "import numpy as np\n",
    "\n",
    "from pydataset import data\n",
    "\n",
    "from sklearn.model_selection import train_test_split\n",
    "from sklearn.tree import DecisionTreeClassifier, plot_tree\n",
    "from sklearn.metrics import classification_report\n",
    "from sklearn.metrics import confusion_matrix\n",
    "import acquire\n",
    "import prepare\n",
    "import matplotlib.pyplot as plt\n",
    "import seaborn as sns\n"
   ]
  },
  {
   "cell_type": "code",
   "execution_count": 2,
   "id": "e094a067",
   "metadata": {},
   "outputs": [],
   "source": [
    "titanic_df=acquire.get_titanic_data()\n",
    "prep_titanic=prepare.prep_titanic(titanic_df)\n",
    "titanic_train,titanic_validate,titanic_test=prepare.split_titanic(prep_titanic)"
   ]
  },
  {
   "cell_type": "code",
   "execution_count": 3,
   "id": "f0c31a1b",
   "metadata": {},
   "outputs": [
    {
     "data": {
      "text/html": [
       "<div>\n",
       "<style scoped>\n",
       "    .dataframe tbody tr th:only-of-type {\n",
       "        vertical-align: middle;\n",
       "    }\n",
       "\n",
       "    .dataframe tbody tr th {\n",
       "        vertical-align: top;\n",
       "    }\n",
       "\n",
       "    .dataframe thead th {\n",
       "        text-align: right;\n",
       "    }\n",
       "</style>\n",
       "<table border=\"1\" class=\"dataframe\">\n",
       "  <thead>\n",
       "    <tr style=\"text-align: right;\">\n",
       "      <th></th>\n",
       "      <th>passenger_id</th>\n",
       "      <th>survived</th>\n",
       "      <th>pclass</th>\n",
       "      <th>sex</th>\n",
       "      <th>sibsp</th>\n",
       "      <th>parch</th>\n",
       "      <th>fare</th>\n",
       "      <th>embark_town</th>\n",
       "      <th>alone</th>\n",
       "      <th>sex_male</th>\n",
       "      <th>embark_town_Queenstown</th>\n",
       "      <th>embark_town_Southampton</th>\n",
       "    </tr>\n",
       "  </thead>\n",
       "  <tbody>\n",
       "    <tr>\n",
       "      <th>455</th>\n",
       "      <td>455</td>\n",
       "      <td>1</td>\n",
       "      <td>3</td>\n",
       "      <td>male</td>\n",
       "      <td>0</td>\n",
       "      <td>0</td>\n",
       "      <td>7.8958</td>\n",
       "      <td>Cherbourg</td>\n",
       "      <td>1</td>\n",
       "      <td>1</td>\n",
       "      <td>0</td>\n",
       "      <td>0</td>\n",
       "    </tr>\n",
       "    <tr>\n",
       "      <th>380</th>\n",
       "      <td>380</td>\n",
       "      <td>1</td>\n",
       "      <td>1</td>\n",
       "      <td>female</td>\n",
       "      <td>0</td>\n",
       "      <td>0</td>\n",
       "      <td>227.5250</td>\n",
       "      <td>Cherbourg</td>\n",
       "      <td>1</td>\n",
       "      <td>0</td>\n",
       "      <td>0</td>\n",
       "      <td>0</td>\n",
       "    </tr>\n",
       "    <tr>\n",
       "      <th>492</th>\n",
       "      <td>492</td>\n",
       "      <td>0</td>\n",
       "      <td>1</td>\n",
       "      <td>male</td>\n",
       "      <td>0</td>\n",
       "      <td>0</td>\n",
       "      <td>30.5000</td>\n",
       "      <td>Southampton</td>\n",
       "      <td>1</td>\n",
       "      <td>1</td>\n",
       "      <td>0</td>\n",
       "      <td>1</td>\n",
       "    </tr>\n",
       "    <tr>\n",
       "      <th>55</th>\n",
       "      <td>55</td>\n",
       "      <td>1</td>\n",
       "      <td>1</td>\n",
       "      <td>male</td>\n",
       "      <td>0</td>\n",
       "      <td>0</td>\n",
       "      <td>35.5000</td>\n",
       "      <td>Southampton</td>\n",
       "      <td>1</td>\n",
       "      <td>1</td>\n",
       "      <td>0</td>\n",
       "      <td>1</td>\n",
       "    </tr>\n",
       "    <tr>\n",
       "      <th>243</th>\n",
       "      <td>243</td>\n",
       "      <td>0</td>\n",
       "      <td>3</td>\n",
       "      <td>male</td>\n",
       "      <td>0</td>\n",
       "      <td>0</td>\n",
       "      <td>7.1250</td>\n",
       "      <td>Southampton</td>\n",
       "      <td>1</td>\n",
       "      <td>1</td>\n",
       "      <td>0</td>\n",
       "      <td>1</td>\n",
       "    </tr>\n",
       "  </tbody>\n",
       "</table>\n",
       "</div>"
      ],
      "text/plain": [
       "     passenger_id  survived  pclass     sex  sibsp  parch      fare  \\\n",
       "455           455         1       3    male      0      0    7.8958   \n",
       "380           380         1       1  female      0      0  227.5250   \n",
       "492           492         0       1    male      0      0   30.5000   \n",
       "55             55         1       1    male      0      0   35.5000   \n",
       "243           243         0       3    male      0      0    7.1250   \n",
       "\n",
       "     embark_town  alone  sex_male  embark_town_Queenstown  \\\n",
       "455    Cherbourg      1         1                       0   \n",
       "380    Cherbourg      1         0                       0   \n",
       "492  Southampton      1         1                       0   \n",
       "55   Southampton      1         1                       0   \n",
       "243  Southampton      1         1                       0   \n",
       "\n",
       "     embark_town_Southampton  \n",
       "455                        0  \n",
       "380                        0  \n",
       "492                        1  \n",
       "55                         1  \n",
       "243                        1  "
      ]
     },
     "execution_count": 3,
     "metadata": {},
     "output_type": "execute_result"
    }
   ],
   "source": [
    "titanic_train.head()"
   ]
  },
  {
   "cell_type": "code",
   "execution_count": 4,
   "id": "d590942c",
   "metadata": {},
   "outputs": [
    {
     "name": "stdout",
     "output_type": "stream",
     "text": [
      "<class 'pandas.core.frame.DataFrame'>\n",
      "Int64Index: 534 entries, 455 to 496\n",
      "Data columns (total 12 columns):\n",
      " #   Column                   Non-Null Count  Dtype  \n",
      "---  ------                   --------------  -----  \n",
      " 0   passenger_id             534 non-null    int64  \n",
      " 1   survived                 534 non-null    int64  \n",
      " 2   pclass                   534 non-null    int64  \n",
      " 3   sex                      534 non-null    object \n",
      " 4   sibsp                    534 non-null    int64  \n",
      " 5   parch                    534 non-null    int64  \n",
      " 6   fare                     534 non-null    float64\n",
      " 7   embark_town              533 non-null    object \n",
      " 8   alone                    534 non-null    int64  \n",
      " 9   sex_male                 534 non-null    uint8  \n",
      " 10  embark_town_Queenstown   534 non-null    uint8  \n",
      " 11  embark_town_Southampton  534 non-null    uint8  \n",
      "dtypes: float64(1), int64(6), object(2), uint8(3)\n",
      "memory usage: 43.3+ KB\n"
     ]
    }
   ],
   "source": [
    "titanic_train.info()\n",
    "titanic_train.drop(columns=['sex','embark_town'],inplace=True)\n",
    "titanic_validate.drop(columns=['sex','embark_town'],inplace=True)"
   ]
  },
  {
   "cell_type": "code",
   "execution_count": 5,
   "id": "0368237d",
   "metadata": {},
   "outputs": [
    {
     "data": {
      "text/plain": [
       "0    0\n",
       "Name: survived, dtype: int64"
      ]
     },
     "execution_count": 5,
     "metadata": {},
     "output_type": "execute_result"
    }
   ],
   "source": [
    "titanic_train.survived.mode()"
   ]
  },
  {
   "cell_type": "code",
   "execution_count": 6,
   "id": "c14b66f9",
   "metadata": {},
   "outputs": [],
   "source": [
    "x_train = titanic_train.drop(columns=['survived'])\n",
    "y_train = titanic_train.survived\n",
    "\n",
    "x_validate = titanic_validate.drop(columns=['survived'])\n",
    "y_validate = titanic_validate.survived\n",
    "\n",
    "x_test = titanic_test.drop(columns=['survived'])\n",
    "y_test = titanic_test.survived"
   ]
  },
  {
   "cell_type": "code",
   "execution_count": 7,
   "id": "6babd7aa",
   "metadata": {},
   "outputs": [
    {
     "data": {
      "text/plain": [
       "0.6161048689138576"
      ]
     },
     "execution_count": 7,
     "metadata": {},
     "output_type": "execute_result"
    }
   ],
   "source": [
    "(y_train==0).mean()"
   ]
  },
  {
   "cell_type": "markdown",
   "id": "68d648f6",
   "metadata": {},
   "source": [
    "The baseline is not survived, and the accuracy is .62"
   ]
  },
  {
   "cell_type": "code",
   "execution_count": 8,
   "id": "ccccf154",
   "metadata": {},
   "outputs": [],
   "source": [
    "clf = DecisionTreeClassifier(max_depth=3, random_state=123)\n",
    "clf = clf.fit(x_train, y_train)"
   ]
  },
  {
   "cell_type": "code",
   "execution_count": 9,
   "id": "d52954e0",
   "metadata": {},
   "outputs": [
    {
     "data": {
      "text/plain": [
       "[Text(0.5, 0.875, 'sex_male <= 0.5\\ngini = 0.473\\nsamples = 534\\nvalue = [329, 205]'),\n",
       " Text(0.25, 0.625, 'pclass <= 2.5\\ngini = 0.372\\nsamples = 186\\nvalue = [46, 140]'),\n",
       " Text(0.125, 0.375, 'passenger_id <= 298.0\\ngini = 0.078\\nsamples = 98\\nvalue = [4, 94]'),\n",
       " Text(0.0625, 0.125, 'gini = 0.252\\nsamples = 27\\nvalue = [4, 23]'),\n",
       " Text(0.1875, 0.125, 'gini = 0.0\\nsamples = 71\\nvalue = [0, 71]'),\n",
       " Text(0.375, 0.375, 'fare <= 24.808\\ngini = 0.499\\nsamples = 88\\nvalue = [42, 46]'),\n",
       " Text(0.3125, 0.125, 'gini = 0.48\\nsamples = 75\\nvalue = [30, 45]'),\n",
       " Text(0.4375, 0.125, 'gini = 0.142\\nsamples = 13\\nvalue = [12, 1]'),\n",
       " Text(0.75, 0.625, 'fare <= 18.275\\ngini = 0.304\\nsamples = 348\\nvalue = [283, 65]'),\n",
       " Text(0.625, 0.375, 'passenger_id <= 36.5\\ngini = 0.193\\nsamples = 222\\nvalue = [198, 24]'),\n",
       " Text(0.5625, 0.125, 'gini = 0.48\\nsamples = 5\\nvalue = [2, 3]'),\n",
       " Text(0.6875, 0.125, 'gini = 0.175\\nsamples = 217\\nvalue = [196, 21]'),\n",
       " Text(0.875, 0.375, 'passenger_id <= 164.5\\ngini = 0.439\\nsamples = 126\\nvalue = [85, 41]'),\n",
       " Text(0.8125, 0.125, 'gini = 0.231\\nsamples = 30\\nvalue = [26, 4]'),\n",
       " Text(0.9375, 0.125, 'gini = 0.474\\nsamples = 96\\nvalue = [59, 37]')]"
      ]
     },
     "execution_count": 9,
     "metadata": {},
     "output_type": "execute_result"
    },
    {
     "data": {
      "image/png": "[encoded data removed]",
      "text/plain": [
       "<Figure size 936x504 with 1 Axes>"
      ]
     },
     "metadata": {
      "needs_background": "light"
     },
     "output_type": "display_data"
    }
   ],
   "source": [
    "plt.figure(figsize=(13, 7))\n",
    "plot_tree(clf, feature_names=x_train.columns, rounded=True)"
   ]
  },
  {
   "cell_type": "code",
   "execution_count": 10,
   "id": "fcb260f9",
   "metadata": {},
   "outputs": [
    {
     "data": {
      "text/html": [
       "<div>\n",
       "<style scoped>\n",
       "    .dataframe tbody tr th:only-of-type {\n",
       "        vertical-align: middle;\n",
       "    }\n",
       "\n",
       "    .dataframe tbody tr th {\n",
       "        vertical-align: top;\n",
       "    }\n",
       "\n",
       "    .dataframe thead th {\n",
       "        text-align: right;\n",
       "    }\n",
       "</style>\n",
       "<table border=\"1\" class=\"dataframe\">\n",
       "  <thead>\n",
       "    <tr style=\"text-align: right;\">\n",
       "      <th></th>\n",
       "      <th>survived</th>\n",
       "      <th>baseline</th>\n",
       "      <th>model_1</th>\n",
       "    </tr>\n",
       "  </thead>\n",
       "  <tbody>\n",
       "    <tr>\n",
       "      <th>455</th>\n",
       "      <td>1</td>\n",
       "      <td>0</td>\n",
       "      <td>0</td>\n",
       "    </tr>\n",
       "    <tr>\n",
       "      <th>380</th>\n",
       "      <td>1</td>\n",
       "      <td>0</td>\n",
       "      <td>1</td>\n",
       "    </tr>\n",
       "    <tr>\n",
       "      <th>492</th>\n",
       "      <td>0</td>\n",
       "      <td>0</td>\n",
       "      <td>0</td>\n",
       "    </tr>\n",
       "    <tr>\n",
       "      <th>55</th>\n",
       "      <td>1</td>\n",
       "      <td>0</td>\n",
       "      <td>0</td>\n",
       "    </tr>\n",
       "    <tr>\n",
       "      <th>243</th>\n",
       "      <td>0</td>\n",
       "      <td>0</td>\n",
       "      <td>0</td>\n",
       "    </tr>\n",
       "    <tr>\n",
       "      <th>...</th>\n",
       "      <td>...</td>\n",
       "      <td>...</td>\n",
       "      <td>...</td>\n",
       "    </tr>\n",
       "    <tr>\n",
       "      <th>695</th>\n",
       "      <td>0</td>\n",
       "      <td>0</td>\n",
       "      <td>0</td>\n",
       "    </tr>\n",
       "    <tr>\n",
       "      <th>128</th>\n",
       "      <td>1</td>\n",
       "      <td>0</td>\n",
       "      <td>1</td>\n",
       "    </tr>\n",
       "    <tr>\n",
       "      <th>636</th>\n",
       "      <td>0</td>\n",
       "      <td>0</td>\n",
       "      <td>0</td>\n",
       "    </tr>\n",
       "    <tr>\n",
       "      <th>222</th>\n",
       "      <td>0</td>\n",
       "      <td>0</td>\n",
       "      <td>0</td>\n",
       "    </tr>\n",
       "    <tr>\n",
       "      <th>496</th>\n",
       "      <td>1</td>\n",
       "      <td>0</td>\n",
       "      <td>1</td>\n",
       "    </tr>\n",
       "  </tbody>\n",
       "</table>\n",
       "<p>534 rows × 3 columns</p>\n",
       "</div>"
      ],
      "text/plain": [
       "     survived  baseline  model_1\n",
       "455         1         0        0\n",
       "380         1         0        1\n",
       "492         0         0        0\n",
       "55          1         0        0\n",
       "243         0         0        0\n",
       "..        ...       ...      ...\n",
       "695         0         0        0\n",
       "128         1         0        1\n",
       "636         0         0        0\n",
       "222         0         0        0\n",
       "496         1         0        1\n",
       "\n",
       "[534 rows x 3 columns]"
      ]
     },
     "execution_count": 10,
     "metadata": {},
     "output_type": "execute_result"
    }
   ],
   "source": [
    "y_pred = pd.DataFrame({'survived': y_train,'baseline': 0, 'model_1':clf.predict(x_train)})\n",
    "y_pred"
   ]
  },
  {
   "cell_type": "code",
   "execution_count": 11,
   "id": "eeb9d558",
   "metadata": {},
   "outputs": [
    {
     "data": {
      "text/plain": [
       "array([[0.90322581, 0.09677419],\n",
       "       [0.        , 1.        ],\n",
       "       [0.61458333, 0.38541667],\n",
       "       [0.86666667, 0.13333333],\n",
       "       [0.90322581, 0.09677419]])"
      ]
     },
     "execution_count": 11,
     "metadata": {},
     "output_type": "execute_result"
    }
   ],
   "source": [
    "y_pred_proba = clf.predict_proba(x_train)\n",
    "y_pred_proba[0:5]"
   ]
  },
  {
   "cell_type": "code",
   "execution_count": 12,
   "id": "022c7374",
   "metadata": {},
   "outputs": [
    {
     "name": "stdout",
     "output_type": "stream",
     "text": [
      "Accuracy of Decision Tree classifier on training set: 0.81\n"
     ]
    }
   ],
   "source": [
    "print('Accuracy of Decision Tree classifier on training set: {:.2f}'\n",
    "      .format(clf.score(x_train, y_train)))"
   ]
  },
  {
   "cell_type": "code",
   "execution_count": 13,
   "id": "ce0f584b",
   "metadata": {},
   "outputs": [
    {
     "data": {
      "text/plain": [
       "array([[293,  36],\n",
       "       [ 63, 142]])"
      ]
     },
     "execution_count": 13,
     "metadata": {},
     "output_type": "execute_result"
    }
   ],
   "source": [
    "confusion_matrix(y_pred.survived, y_pred.model_1)"
   ]
  },
  {
   "cell_type": "code",
   "execution_count": 14,
   "id": "010ac70f",
   "metadata": {},
   "outputs": [
    {
     "name": "stdout",
     "output_type": "stream",
     "text": [
      "              precision    recall  f1-score   support\n",
      "\n",
      "           0       0.82      0.89      0.86       329\n",
      "           1       0.80      0.69      0.74       205\n",
      "\n",
      "    accuracy                           0.81       534\n",
      "   macro avg       0.81      0.79      0.80       534\n",
      "weighted avg       0.81      0.81      0.81       534\n",
      "\n"
     ]
    }
   ],
   "source": [
    "print(classification_report(y_pred.survived,y_pred.model_1))"
   ]
  },
  {
   "cell_type": "markdown",
   "id": "380369f6",
   "metadata": {},
   "source": [
    "This model 1 is not overfit, with a accuracy about 82%."
   ]
  },
  {
   "cell_type": "code",
   "execution_count": 15,
   "id": "f72a95ad",
   "metadata": {},
   "outputs": [
    {
     "data": {
      "text/html": [
       "<div>\n",
       "<style scoped>\n",
       "    .dataframe tbody tr th:only-of-type {\n",
       "        vertical-align: middle;\n",
       "    }\n",
       "\n",
       "    .dataframe tbody tr th {\n",
       "        vertical-align: top;\n",
       "    }\n",
       "\n",
       "    .dataframe thead th {\n",
       "        text-align: right;\n",
       "    }\n",
       "</style>\n",
       "<table border=\"1\" class=\"dataframe\">\n",
       "  <thead>\n",
       "    <tr style=\"text-align: right;\">\n",
       "      <th></th>\n",
       "      <th>prep_notsurvived</th>\n",
       "      <th>prep_survived</th>\n",
       "    </tr>\n",
       "  </thead>\n",
       "  <tbody>\n",
       "    <tr>\n",
       "      <th>actual_notsurvived</th>\n",
       "      <td>293</td>\n",
       "      <td>36</td>\n",
       "    </tr>\n",
       "    <tr>\n",
       "      <th>acutal_survived</th>\n",
       "      <td>63</td>\n",
       "      <td>142</td>\n",
       "    </tr>\n",
       "  </tbody>\n",
       "</table>\n",
       "</div>"
      ],
      "text/plain": [
       "                    prep_notsurvived  prep_survived\n",
       "actual_notsurvived               293             36\n",
       "acutal_survived                   63            142"
      ]
     },
     "execution_count": 15,
     "metadata": {},
     "output_type": "execute_result"
    }
   ],
   "source": [
    "pd.DataFrame(confusion_matrix(y_pred.survived, y_pred.model_1), index=['actual_notsurvived','acutal_survived'], columns=['prep_notsurvived','prep_survived'])"
   ]
  },
  {
   "cell_type": "code",
   "execution_count": 16,
   "id": "77d017bb",
   "metadata": {},
   "outputs": [],
   "source": [
    "TN = 276\n",
    "FP = 31\n",
    "FN = 57\n",
    "TP = 134"
   ]
  },
  {
   "cell_type": "code",
   "execution_count": 17,
   "id": "95172995",
   "metadata": {},
   "outputs": [],
   "source": [
    "all = TP + FP + FN + TN\n",
    "acc = (TP + TN) / all\n",
    "\n",
    "TurePositiveRate = recall = TP/ (TP + FN)\n",
    "\n",
    "FalsePositiveRate = FP / (FP + TN)\n",
    "\n",
    "TrueNegativeRate = TN / (TN + FP)\n",
    "\n",
    "FalseNegativeRate = FN / (FN + TP)\n",
    "\n",
    "precision = TP / (TP + FP)\n",
    "\n",
    "f1_score = 2 * (precision*recall) / (precision+recall)\n",
    "\n",
    "support_pos = TP + FN\n",
    "support_neg = FP + TN"
   ]
  },
  {
   "cell_type": "code",
   "execution_count": 18,
   "id": "6b669a93",
   "metadata": {},
   "outputs": [
    {
     "name": "stdout",
     "output_type": "stream",
     "text": [
      "accuracy is: 0.8232931726907631 Ture Positive Rate is: 0.7015706806282722 False Positive Rate is: 0.10097719869706841 /n True Negative Rate is: 0.8990228013029316 False Negative Rate is: 0.29842931937172773 precision is: 0.8121212121212121 /n f1_score is: 0.752808988764045 support_pos is: 191 support_neg is: 307\n"
     ]
    }
   ],
   "source": [
    "print('accuracy is:',acc,'Ture Positive Rate is:',TurePositiveRate,'False Positive Rate is:',FalsePositiveRate,'/n',\n",
    "      'True Negative Rate is:',TrueNegativeRate,'False Negative Rate is:',FalseNegativeRate,'precision is:',precision,'/n',\n",
    "      'f1_score is:',f1_score,'support_pos is:',support_pos,'support_neg is:',support_neg)"
   ]
  },
  {
   "cell_type": "code",
   "execution_count": 19,
   "id": "fee239d7",
   "metadata": {},
   "outputs": [
    {
     "name": "stdout",
     "output_type": "stream",
     "text": [
      "              precision    recall  f1-score   support\n",
      "\n",
      "           0       0.82      0.89      0.86       329\n",
      "           1       0.80      0.69      0.74       205\n",
      "\n",
      "    accuracy                           0.81       534\n",
      "   macro avg       0.81      0.79      0.80       534\n",
      "weighted avg       0.81      0.81      0.81       534\n",
      "\n"
     ]
    }
   ],
   "source": [
    "print(classification_report(y_train, y_pred.model_1))"
   ]
  },
  {
   "cell_type": "code",
   "execution_count": 20,
   "id": "e4fcdb75",
   "metadata": {},
   "outputs": [],
   "source": [
    "# secondtest"
   ]
  },
  {
   "cell_type": "code",
   "execution_count": 21,
   "id": "e29411e2",
   "metadata": {},
   "outputs": [],
   "source": [
    "clfsecondtest = DecisionTreeClassifier(max_depth=5, random_state=123)\n",
    "clfsecondtest = clfsecondtest.fit(x_train, y_train)"
   ]
  },
  {
   "cell_type": "code",
   "execution_count": 22,
   "id": "fc4fd519",
   "metadata": {},
   "outputs": [
    {
     "data": {
      "text/plain": [
       "[Text(0.4375, 0.9166666666666666, 'sex_male <= 0.5\\ngini = 0.473\\nsamples = 534\\nvalue = [329, 205]'),\n",
       " Text(0.19078947368421054, 0.75, 'pclass <= 2.5\\ngini = 0.372\\nsamples = 186\\nvalue = [46, 140]'),\n",
       " Text(0.10526315789473684, 0.5833333333333334, 'passenger_id <= 298.0\\ngini = 0.078\\nsamples = 98\\nvalue = [4, 94]'),\n",
       " Text(0.07894736842105263, 0.4166666666666667, 'passenger_id <= 294.0\\ngini = 0.252\\nsamples = 27\\nvalue = [4, 23]'),\n",
       " Text(0.05263157894736842, 0.25, 'fare <= 29.392\\ngini = 0.204\\nsamples = 26\\nvalue = [3, 23]'),\n",
       " Text(0.02631578947368421, 0.08333333333333333, 'gini = 0.32\\nsamples = 15\\nvalue = [3, 12]'),\n",
       " Text(0.07894736842105263, 0.08333333333333333, 'gini = 0.0\\nsamples = 11\\nvalue = [0, 11]'),\n",
       " Text(0.10526315789473684, 0.25, 'gini = 0.0\\nsamples = 1\\nvalue = [1, 0]'),\n",
       " Text(0.13157894736842105, 0.4166666666666667, 'gini = 0.0\\nsamples = 71\\nvalue = [0, 71]'),\n",
       " Text(0.27631578947368424, 0.5833333333333334, 'fare <= 24.808\\ngini = 0.499\\nsamples = 88\\nvalue = [42, 46]'),\n",
       " Text(0.21052631578947367, 0.4166666666666667, 'embark_town_Queenstown <= 0.5\\ngini = 0.48\\nsamples = 75\\nvalue = [30, 45]'),\n",
       " Text(0.15789473684210525, 0.25, 'fare <= 7.523\\ngini = 0.5\\nsamples = 53\\nvalue = [26, 27]'),\n",
       " Text(0.13157894736842105, 0.08333333333333333, 'gini = 0.0\\nsamples = 4\\nvalue = [0, 4]'),\n",
       " Text(0.18421052631578946, 0.08333333333333333, 'gini = 0.498\\nsamples = 49\\nvalue = [26, 23]'),\n",
       " Text(0.2631578947368421, 0.25, 'fare <= 7.681\\ngini = 0.298\\nsamples = 22\\nvalue = [4, 18]'),\n",
       " Text(0.23684210526315788, 0.08333333333333333, 'gini = 0.0\\nsamples = 2\\nvalue = [2, 0]'),\n",
       " Text(0.2894736842105263, 0.08333333333333333, 'gini = 0.18\\nsamples = 20\\nvalue = [2, 18]'),\n",
       " Text(0.34210526315789475, 0.4166666666666667, 'passenger_id <= 48.0\\ngini = 0.142\\nsamples = 13\\nvalue = [12, 1]'),\n",
       " Text(0.3157894736842105, 0.25, 'gini = 0.0\\nsamples = 1\\nvalue = [0, 1]'),\n",
       " Text(0.3684210526315789, 0.25, 'gini = 0.0\\nsamples = 12\\nvalue = [12, 0]'),\n",
       " Text(0.6842105263157895, 0.75, 'fare <= 18.275\\ngini = 0.304\\nsamples = 348\\nvalue = [283, 65]'),\n",
       " Text(0.5131578947368421, 0.5833333333333334, 'passenger_id <= 36.5\\ngini = 0.193\\nsamples = 222\\nvalue = [198, 24]'),\n",
       " Text(0.4473684210526316, 0.4166666666666667, 'fare <= 11.75\\ngini = 0.48\\nsamples = 5\\nvalue = [2, 3]'),\n",
       " Text(0.42105263157894735, 0.25, 'fare <= 7.24\\ngini = 0.444\\nsamples = 3\\nvalue = [2, 1]'),\n",
       " Text(0.39473684210526316, 0.08333333333333333, 'gini = 0.0\\nsamples = 1\\nvalue = [0, 1]'),\n",
       " Text(0.4473684210526316, 0.08333333333333333, 'gini = 0.0\\nsamples = 2\\nvalue = [2, 0]'),\n",
       " Text(0.47368421052631576, 0.25, 'gini = 0.0\\nsamples = 2\\nvalue = [0, 2]'),\n",
       " Text(0.5789473684210527, 0.4166666666666667, 'alone <= 0.5\\ngini = 0.175\\nsamples = 217\\nvalue = [196, 21]'),\n",
       " Text(0.5263157894736842, 0.25, 'passenger_id <= 651.5\\ngini = 0.363\\nsamples = 21\\nvalue = [16, 5]'),\n",
       " Text(0.5, 0.08333333333333333, 'gini = 0.219\\nsamples = 16\\nvalue = [14, 2]'),\n",
       " Text(0.5526315789473685, 0.08333333333333333, 'gini = 0.48\\nsamples = 5\\nvalue = [2, 3]'),\n",
       " Text(0.631578947368421, 0.25, 'passenger_id <= 224.5\\ngini = 0.15\\nsamples = 196\\nvalue = [180, 16]'),\n",
       " Text(0.6052631578947368, 0.08333333333333333, 'gini = 0.0\\nsamples = 41\\nvalue = [41, 0]'),\n",
       " Text(0.6578947368421053, 0.08333333333333333, 'gini = 0.185\\nsamples = 155\\nvalue = [139, 16]'),\n",
       " Text(0.8552631578947368, 0.5833333333333334, 'passenger_id <= 164.5\\ngini = 0.439\\nsamples = 126\\nvalue = [85, 41]'),\n",
       " Text(0.7894736842105263, 0.4166666666666667, 'alone <= 0.5\\ngini = 0.231\\nsamples = 30\\nvalue = [26, 4]'),\n",
       " Text(0.7368421052631579, 0.25, 'embark_town_Southampton <= 0.5\\ngini = 0.087\\nsamples = 22\\nvalue = [21, 1]'),\n",
       " Text(0.7105263157894737, 0.08333333333333333, 'gini = 0.32\\nsamples = 5\\nvalue = [4, 1]'),\n",
       " Text(0.7631578947368421, 0.08333333333333333, 'gini = 0.0\\nsamples = 17\\nvalue = [17, 0]'),\n",
       " Text(0.8421052631578947, 0.25, 'fare <= 35.077\\ngini = 0.469\\nsamples = 8\\nvalue = [5, 3]'),\n",
       " Text(0.8157894736842105, 0.08333333333333333, 'gini = 0.0\\nsamples = 3\\nvalue = [3, 0]'),\n",
       " Text(0.868421052631579, 0.08333333333333333, 'gini = 0.48\\nsamples = 5\\nvalue = [2, 3]'),\n",
       " Text(0.9210526315789473, 0.4166666666666667, 'fare <= 19.377\\ngini = 0.474\\nsamples = 96\\nvalue = [59, 37]'),\n",
       " Text(0.8947368421052632, 0.25, 'gini = 0.0\\nsamples = 3\\nvalue = [0, 3]'),\n",
       " Text(0.9473684210526315, 0.25, 'fare <= 51.248\\ngini = 0.464\\nsamples = 93\\nvalue = [59, 34]'),\n",
       " Text(0.9210526315789473, 0.08333333333333333, 'gini = 0.417\\nsamples = 64\\nvalue = [45, 19]'),\n",
       " Text(0.9736842105263158, 0.08333333333333333, 'gini = 0.499\\nsamples = 29\\nvalue = [14, 15]')]"
      ]
     },
     "execution_count": 22,
     "metadata": {},
     "output_type": "execute_result"
    },
    {
     "data": {
      "image/png": "[encoded data removed]",
      "text/plain": [
       "<Figure size 936x504 with 1 Axes>"
      ]
     },
     "metadata": {
      "needs_background": "light"
     },
     "output_type": "display_data"
    }
   ],
   "source": [
    "plt.figure(figsize=(13, 7))\n",
    "plot_tree(clfsecondtest, feature_names=x_train.columns, rounded=True)"
   ]
  },
  {
   "cell_type": "code",
   "execution_count": 23,
   "id": "cb87c1eb",
   "metadata": {},
   "outputs": [
    {
     "data": {
      "text/html": [
       "<div>\n",
       "<style scoped>\n",
       "    .dataframe tbody tr th:only-of-type {\n",
       "        vertical-align: middle;\n",
       "    }\n",
       "\n",
       "    .dataframe tbody tr th {\n",
       "        vertical-align: top;\n",
       "    }\n",
       "\n",
       "    .dataframe thead th {\n",
       "        text-align: right;\n",
       "    }\n",
       "</style>\n",
       "<table border=\"1\" class=\"dataframe\">\n",
       "  <thead>\n",
       "    <tr style=\"text-align: right;\">\n",
       "      <th></th>\n",
       "      <th>survived</th>\n",
       "      <th>baseline</th>\n",
       "      <th>model_1</th>\n",
       "      <th>model_2</th>\n",
       "    </tr>\n",
       "  </thead>\n",
       "  <tbody>\n",
       "    <tr>\n",
       "      <th>455</th>\n",
       "      <td>1</td>\n",
       "      <td>0</td>\n",
       "      <td>0</td>\n",
       "      <td>0</td>\n",
       "    </tr>\n",
       "    <tr>\n",
       "      <th>380</th>\n",
       "      <td>1</td>\n",
       "      <td>0</td>\n",
       "      <td>1</td>\n",
       "      <td>1</td>\n",
       "    </tr>\n",
       "    <tr>\n",
       "      <th>492</th>\n",
       "      <td>0</td>\n",
       "      <td>0</td>\n",
       "      <td>0</td>\n",
       "      <td>0</td>\n",
       "    </tr>\n",
       "    <tr>\n",
       "      <th>55</th>\n",
       "      <td>1</td>\n",
       "      <td>0</td>\n",
       "      <td>0</td>\n",
       "      <td>1</td>\n",
       "    </tr>\n",
       "    <tr>\n",
       "      <th>243</th>\n",
       "      <td>0</td>\n",
       "      <td>0</td>\n",
       "      <td>0</td>\n",
       "      <td>0</td>\n",
       "    </tr>\n",
       "    <tr>\n",
       "      <th>...</th>\n",
       "      <td>...</td>\n",
       "      <td>...</td>\n",
       "      <td>...</td>\n",
       "      <td>...</td>\n",
       "    </tr>\n",
       "    <tr>\n",
       "      <th>695</th>\n",
       "      <td>0</td>\n",
       "      <td>0</td>\n",
       "      <td>0</td>\n",
       "      <td>0</td>\n",
       "    </tr>\n",
       "    <tr>\n",
       "      <th>128</th>\n",
       "      <td>1</td>\n",
       "      <td>0</td>\n",
       "      <td>1</td>\n",
       "      <td>0</td>\n",
       "    </tr>\n",
       "    <tr>\n",
       "      <th>636</th>\n",
       "      <td>0</td>\n",
       "      <td>0</td>\n",
       "      <td>0</td>\n",
       "      <td>0</td>\n",
       "    </tr>\n",
       "    <tr>\n",
       "      <th>222</th>\n",
       "      <td>0</td>\n",
       "      <td>0</td>\n",
       "      <td>0</td>\n",
       "      <td>0</td>\n",
       "    </tr>\n",
       "    <tr>\n",
       "      <th>496</th>\n",
       "      <td>1</td>\n",
       "      <td>0</td>\n",
       "      <td>1</td>\n",
       "      <td>1</td>\n",
       "    </tr>\n",
       "  </tbody>\n",
       "</table>\n",
       "<p>534 rows × 4 columns</p>\n",
       "</div>"
      ],
      "text/plain": [
       "     survived  baseline  model_1  model_2\n",
       "455         1         0        0        0\n",
       "380         1         0        1        1\n",
       "492         0         0        0        0\n",
       "55          1         0        0        1\n",
       "243         0         0        0        0\n",
       "..        ...       ...      ...      ...\n",
       "695         0         0        0        0\n",
       "128         1         0        1        0\n",
       "636         0         0        0        0\n",
       "222         0         0        0        0\n",
       "496         1         0        1        1\n",
       "\n",
       "[534 rows x 4 columns]"
      ]
     },
     "execution_count": 23,
     "metadata": {},
     "output_type": "execute_result"
    }
   ],
   "source": [
    "y_pred = pd.DataFrame({'survived': y_train,'baseline': 0, 'model_1':clf.predict(x_train),'model_2':clfsecondtest.predict(x_train)})\n",
    "y_pred"
   ]
  },
  {
   "cell_type": "code",
   "execution_count": 24,
   "id": "ba85523b",
   "metadata": {},
   "outputs": [
    {
     "data": {
      "text/plain": [
       "array([[0.89677419, 0.10322581],\n",
       "       [0.        , 1.        ],\n",
       "       [0.703125  , 0.296875  ],\n",
       "       [0.4       , 0.6       ],\n",
       "       [0.89677419, 0.10322581]])"
      ]
     },
     "execution_count": 24,
     "metadata": {},
     "output_type": "execute_result"
    }
   ],
   "source": [
    "y_pred_proba = clfsecondtest.predict_proba(x_train)\n",
    "y_pred_proba[0:5]"
   ]
  },
  {
   "cell_type": "code",
   "execution_count": 25,
   "id": "61b7a6de",
   "metadata": {},
   "outputs": [
    {
     "name": "stdout",
     "output_type": "stream",
     "text": [
      "Accuracy of Decision Tree classifier on training set: 0.84\n"
     ]
    }
   ],
   "source": [
    "print('Accuracy of Decision Tree classifier on training set: {:.2f}'\n",
    "      .format(clfsecondtest.score(x_train, y_train)))"
   ]
  },
  {
   "cell_type": "code",
   "execution_count": 26,
   "id": "84feec2a",
   "metadata": {},
   "outputs": [
    {
     "data": {
      "text/plain": [
       "array([[306,  23],\n",
       "       [ 61, 144]])"
      ]
     },
     "execution_count": 26,
     "metadata": {},
     "output_type": "execute_result"
    }
   ],
   "source": [
    "confusion_matrix(y_pred.survived, y_pred.model_2)"
   ]
  },
  {
   "cell_type": "code",
   "execution_count": 27,
   "id": "8925a886",
   "metadata": {},
   "outputs": [
    {
     "name": "stdout",
     "output_type": "stream",
     "text": [
      "              precision    recall  f1-score   support\n",
      "\n",
      "           0       0.83      0.93      0.88       329\n",
      "           1       0.86      0.70      0.77       205\n",
      "\n",
      "    accuracy                           0.84       534\n",
      "   macro avg       0.85      0.82      0.83       534\n",
      "weighted avg       0.84      0.84      0.84       534\n",
      "\n"
     ]
    }
   ],
   "source": [
    "print(classification_report(y_pred.survived,y_pred.model_2))"
   ]
  },
  {
   "cell_type": "code",
   "execution_count": 28,
   "id": "dabf24a5",
   "metadata": {},
   "outputs": [
    {
     "data": {
      "text/html": [
       "<div>\n",
       "<style scoped>\n",
       "    .dataframe tbody tr th:only-of-type {\n",
       "        vertical-align: middle;\n",
       "    }\n",
       "\n",
       "    .dataframe tbody tr th {\n",
       "        vertical-align: top;\n",
       "    }\n",
       "\n",
       "    .dataframe thead th {\n",
       "        text-align: right;\n",
       "    }\n",
       "</style>\n",
       "<table border=\"1\" class=\"dataframe\">\n",
       "  <thead>\n",
       "    <tr style=\"text-align: right;\">\n",
       "      <th></th>\n",
       "      <th>prep_notsurvived</th>\n",
       "      <th>prep_survived</th>\n",
       "    </tr>\n",
       "  </thead>\n",
       "  <tbody>\n",
       "    <tr>\n",
       "      <th>actual_notsurvived</th>\n",
       "      <td>306</td>\n",
       "      <td>23</td>\n",
       "    </tr>\n",
       "    <tr>\n",
       "      <th>acutal_survived</th>\n",
       "      <td>61</td>\n",
       "      <td>144</td>\n",
       "    </tr>\n",
       "  </tbody>\n",
       "</table>\n",
       "</div>"
      ],
      "text/plain": [
       "                    prep_notsurvived  prep_survived\n",
       "actual_notsurvived               306             23\n",
       "acutal_survived                   61            144"
      ]
     },
     "execution_count": 28,
     "metadata": {},
     "output_type": "execute_result"
    }
   ],
   "source": [
    "pd.DataFrame(confusion_matrix(y_pred.survived, y_pred.model_2), index=['actual_notsurvived','acutal_survived'], columns=['prep_notsurvived','prep_survived'])"
   ]
  },
  {
   "cell_type": "code",
   "execution_count": 29,
   "id": "592feec2",
   "metadata": {},
   "outputs": [],
   "source": [
    "TN2 = 276\n",
    "FP2 = 31\n",
    "FN2 = 57\n",
    "TP2 = 134"
   ]
  },
  {
   "cell_type": "code",
   "execution_count": 30,
   "id": "23a2f5ac",
   "metadata": {},
   "outputs": [],
   "source": [
    "all = TP2 + FP2 + FN2 + TN2\n",
    "acc2 = (TP2 + TN2) / all\n",
    "\n",
    "TurePositiveRate2 = recall2 = TP2/ (TP2 + FN2)\n",
    "\n",
    "FalsePositiveRate2 = FP2 / (FP2 + TN2)\n",
    "\n",
    "TrueNegativeRate2 = TN2 / (TN2 + FP2)\n",
    "\n",
    "FalseNegativeRate2 = FN2 / (FN2 + TP2)\n",
    "\n",
    "precision2 = TP2 / (TP2 + FP2)\n",
    "\n",
    "f1_score2 = 2 * (precision2*recall2) / (precision2+recall2)\n",
    "\n",
    "support_pos2 = TP2 + FN2\n",
    "support_neg2 = FP2 + TN2"
   ]
  },
  {
   "cell_type": "code",
   "execution_count": 31,
   "id": "a74cbf13",
   "metadata": {},
   "outputs": [
    {
     "name": "stdout",
     "output_type": "stream",
     "text": [
      "accuracy is: 0.8232931726907631 Ture Positive Rate is: 0.7015706806282722 False Positive Rate is: 0.10097719869706841 /n True Negative Rate is: 0.8990228013029316 False Negative Rate is: 0.29842931937172773 precision is: 0.8121212121212121 /n f1_score is: 0.752808988764045 support_pos is: 191 support_neg is: 307\n"
     ]
    }
   ],
   "source": [
    "print('accuracy is:',acc2,'Ture Positive Rate is:',TurePositiveRate2,'False Positive Rate is:',FalsePositiveRate2,'/n',\n",
    "      'True Negative Rate is:',TrueNegativeRate2,'False Negative Rate is:',FalseNegativeRate2,'precision is:',precision2,'/n',\n",
    "      'f1_score is:',f1_score2,'support_pos is:',support_pos2,'support_neg is:',support_neg2)"
   ]
  },
  {
   "cell_type": "code",
   "execution_count": 32,
   "id": "c2843857",
   "metadata": {},
   "outputs": [
    {
     "name": "stdout",
     "output_type": "stream",
     "text": [
      "              precision    recall  f1-score   support\n",
      "\n",
      "           0       0.83      0.93      0.88       329\n",
      "           1       0.86      0.70      0.77       205\n",
      "\n",
      "    accuracy                           0.84       534\n",
      "   macro avg       0.85      0.82      0.83       534\n",
      "weighted avg       0.84      0.84      0.84       534\n",
      "\n"
     ]
    }
   ],
   "source": [
    "print(classification_report(y_train, y_pred.model_2))"
   ]
  },
  {
   "cell_type": "markdown",
   "id": "e1a60822",
   "metadata": {},
   "source": [
    "Validate the first model"
   ]
  },
  {
   "cell_type": "code",
   "execution_count": 33,
   "id": "5be41fa5",
   "metadata": {},
   "outputs": [
    {
     "name": "stdout",
     "output_type": "stream",
     "text": [
      "Accuracy of Decision Tree classifier on validate set: 0.79\n",
      "              precision    recall  f1-score   support\n",
      "\n",
      "           0       0.81      0.85      0.83       110\n",
      "           1       0.74      0.68      0.71        68\n",
      "\n",
      "    accuracy                           0.79       178\n",
      "   macro avg       0.78      0.77      0.77       178\n",
      "weighted avg       0.78      0.79      0.78       178\n",
      "\n"
     ]
    }
   ],
   "source": [
    "print('Accuracy of Decision Tree classifier on validate set: {:.2f}'\n",
    "     .format(clf.score(x_validate, y_validate)))\n",
    "y_pred = clf.predict(x_validate)\n",
    "print(classification_report(y_validate, y_pred))"
   ]
  },
  {
   "cell_type": "code",
   "execution_count": 34,
   "id": "573b773f",
   "metadata": {},
   "outputs": [
    {
     "name": "stdout",
     "output_type": "stream",
     "text": [
      "Accuracy of Decision Tree classifier on validate set: 0.74\n",
      "              precision    recall  f1-score   support\n",
      "\n",
      "           0       0.77      0.84      0.80       110\n",
      "           1       0.69      0.59      0.63        68\n",
      "\n",
      "    accuracy                           0.74       178\n",
      "   macro avg       0.73      0.71      0.72       178\n",
      "weighted avg       0.74      0.74      0.74       178\n",
      "\n"
     ]
    }
   ],
   "source": [
    "print('Accuracy of Decision Tree classifier on validate set: {:.2f}'\n",
    "     .format(clfsecondtest.score(x_validate, y_validate)))\n",
    "y_pred = clfsecondtest.predict(x_validate)\n",
    "print(classification_report(y_validate, y_pred))"
   ]
  },
  {
   "cell_type": "markdown",
   "id": "d8855846",
   "metadata": {},
   "source": [
    "In-sample data is the second model performed better and the The second model works better than the first model"
   ]
  },
  {
   "cell_type": "code",
   "execution_count": null,
   "id": "05b6b67f",
   "metadata": {},
   "outputs": [],
   "source": []
  },
  {
   "cell_type": "markdown",
   "id": "8cd29c04",
   "metadata": {},
   "source": [
    "## Telco dataset"
   ]
  },
  {
   "cell_type": "code",
   "execution_count": 35,
   "id": "82b9a702",
   "metadata": {},
   "outputs": [],
   "source": [
    "telco_df=acquire.get_telco_data()\n",
    "prep_telco=prepare.prep_telco(telco_df)\n",
    "telco_train,telco_validate,telco_test=prepare.split_telco(prep_telco)"
   ]
  },
  {
   "cell_type": "code",
   "execution_count": 36,
   "id": "9f936cbf",
   "metadata": {},
   "outputs": [
    {
     "data": {
      "text/html": [
       "<div>\n",
       "<style scoped>\n",
       "    .dataframe tbody tr th:only-of-type {\n",
       "        vertical-align: middle;\n",
       "    }\n",
       "\n",
       "    .dataframe tbody tr th {\n",
       "        vertical-align: top;\n",
       "    }\n",
       "\n",
       "    .dataframe thead th {\n",
       "        text-align: right;\n",
       "    }\n",
       "</style>\n",
       "<table border=\"1\" class=\"dataframe\">\n",
       "  <thead>\n",
       "    <tr style=\"text-align: right;\">\n",
       "      <th></th>\n",
       "      <th>customer_id</th>\n",
       "      <th>senior_citizen</th>\n",
       "      <th>tenure</th>\n",
       "      <th>monthly_charges</th>\n",
       "      <th>total_charges</th>\n",
       "      <th>phone_service.1</th>\n",
       "      <th>multiple_lines.1</th>\n",
       "      <th>internet_service_type_id.1</th>\n",
       "      <th>online_security.1</th>\n",
       "      <th>online_backup.1</th>\n",
       "      <th>...</th>\n",
       "      <th>tech_support_Yes</th>\n",
       "      <th>streaming_tv_No internet service</th>\n",
       "      <th>streaming_tv_Yes</th>\n",
       "      <th>streaming_movies_No internet service</th>\n",
       "      <th>streaming_movies_Yes</th>\n",
       "      <th>paperless_billing_Yes</th>\n",
       "      <th>churn_Yes</th>\n",
       "      <th>internet_service_type_Fiber optic</th>\n",
       "      <th>internet_service_type_None</th>\n",
       "      <th>gender_Male</th>\n",
       "    </tr>\n",
       "  </thead>\n",
       "  <tbody>\n",
       "    <tr>\n",
       "      <th>440</th>\n",
       "      <td>0643-OKLRP</td>\n",
       "      <td>1</td>\n",
       "      <td>47</td>\n",
       "      <td>80.35</td>\n",
       "      <td>3825.85</td>\n",
       "      <td>Yes</td>\n",
       "      <td>Yes</td>\n",
       "      <td>2</td>\n",
       "      <td>Yes</td>\n",
       "      <td>No</td>\n",
       "      <td>...</td>\n",
       "      <td>0</td>\n",
       "      <td>0</td>\n",
       "      <td>0</td>\n",
       "      <td>0</td>\n",
       "      <td>0</td>\n",
       "      <td>0</td>\n",
       "      <td>1</td>\n",
       "      <td>1</td>\n",
       "      <td>0</td>\n",
       "      <td>0</td>\n",
       "    </tr>\n",
       "    <tr>\n",
       "      <th>67</th>\n",
       "      <td>0112-QWPNC</td>\n",
       "      <td>0</td>\n",
       "      <td>49</td>\n",
       "      <td>84.35</td>\n",
       "      <td>4059.35</td>\n",
       "      <td>Yes</td>\n",
       "      <td>Yes</td>\n",
       "      <td>1</td>\n",
       "      <td>Yes</td>\n",
       "      <td>No</td>\n",
       "      <td>...</td>\n",
       "      <td>1</td>\n",
       "      <td>0</td>\n",
       "      <td>1</td>\n",
       "      <td>0</td>\n",
       "      <td>1</td>\n",
       "      <td>0</td>\n",
       "      <td>1</td>\n",
       "      <td>0</td>\n",
       "      <td>0</td>\n",
       "      <td>1</td>\n",
       "    </tr>\n",
       "    <tr>\n",
       "      <th>600</th>\n",
       "      <td>0877-SDMBN</td>\n",
       "      <td>0</td>\n",
       "      <td>54</td>\n",
       "      <td>103.95</td>\n",
       "      <td>5639.05</td>\n",
       "      <td>Yes</td>\n",
       "      <td>Yes</td>\n",
       "      <td>2</td>\n",
       "      <td>Yes</td>\n",
       "      <td>No</td>\n",
       "      <td>...</td>\n",
       "      <td>0</td>\n",
       "      <td>0</td>\n",
       "      <td>1</td>\n",
       "      <td>0</td>\n",
       "      <td>1</td>\n",
       "      <td>1</td>\n",
       "      <td>1</td>\n",
       "      <td>1</td>\n",
       "      <td>0</td>\n",
       "      <td>0</td>\n",
       "    </tr>\n",
       "    <tr>\n",
       "      <th>4883</th>\n",
       "      <td>9993-LHIEB</td>\n",
       "      <td>0</td>\n",
       "      <td>67</td>\n",
       "      <td>67.85</td>\n",
       "      <td>4627.65</td>\n",
       "      <td>Yes</td>\n",
       "      <td>No</td>\n",
       "      <td>1</td>\n",
       "      <td>Yes</td>\n",
       "      <td>No</td>\n",
       "      <td>...</td>\n",
       "      <td>1</td>\n",
       "      <td>0</td>\n",
       "      <td>0</td>\n",
       "      <td>0</td>\n",
       "      <td>1</td>\n",
       "      <td>0</td>\n",
       "      <td>0</td>\n",
       "      <td>0</td>\n",
       "      <td>0</td>\n",
       "      <td>1</td>\n",
       "    </tr>\n",
       "    <tr>\n",
       "      <th>1258</th>\n",
       "      <td>2455-USLMV</td>\n",
       "      <td>0</td>\n",
       "      <td>31</td>\n",
       "      <td>84.75</td>\n",
       "      <td>2613.40</td>\n",
       "      <td>Yes</td>\n",
       "      <td>Yes</td>\n",
       "      <td>2</td>\n",
       "      <td>Yes</td>\n",
       "      <td>No</td>\n",
       "      <td>...</td>\n",
       "      <td>0</td>\n",
       "      <td>0</td>\n",
       "      <td>0</td>\n",
       "      <td>0</td>\n",
       "      <td>0</td>\n",
       "      <td>1</td>\n",
       "      <td>0</td>\n",
       "      <td>1</td>\n",
       "      <td>0</td>\n",
       "      <td>0</td>\n",
       "    </tr>\n",
       "  </tbody>\n",
       "</table>\n",
       "<p>5 rows × 42 columns</p>\n",
       "</div>"
      ],
      "text/plain": [
       "     customer_id  senior_citizen  tenure  monthly_charges  total_charges  \\\n",
       "440   0643-OKLRP               1      47            80.35        3825.85   \n",
       "67    0112-QWPNC               0      49            84.35        4059.35   \n",
       "600   0877-SDMBN               0      54           103.95        5639.05   \n",
       "4883  9993-LHIEB               0      67            67.85        4627.65   \n",
       "1258  2455-USLMV               0      31            84.75        2613.40   \n",
       "\n",
       "     phone_service.1 multiple_lines.1  internet_service_type_id.1  \\\n",
       "440              Yes              Yes                           2   \n",
       "67               Yes              Yes                           1   \n",
       "600              Yes              Yes                           2   \n",
       "4883             Yes               No                           1   \n",
       "1258             Yes              Yes                           2   \n",
       "\n",
       "     online_security.1 online_backup.1  ... tech_support_Yes  \\\n",
       "440                Yes              No  ...                0   \n",
       "67                 Yes              No  ...                1   \n",
       "600                Yes              No  ...                0   \n",
       "4883               Yes              No  ...                1   \n",
       "1258               Yes              No  ...                0   \n",
       "\n",
       "     streaming_tv_No internet service streaming_tv_Yes  \\\n",
       "440                                 0                0   \n",
       "67                                  0                1   \n",
       "600                                 0                1   \n",
       "4883                                0                0   \n",
       "1258                                0                0   \n",
       "\n",
       "     streaming_movies_No internet service  streaming_movies_Yes  \\\n",
       "440                                     0                     0   \n",
       "67                                      0                     1   \n",
       "600                                     0                     1   \n",
       "4883                                    0                     1   \n",
       "1258                                    0                     0   \n",
       "\n",
       "     paperless_billing_Yes  churn_Yes  internet_service_type_Fiber optic  \\\n",
       "440                      0          1                                  1   \n",
       "67                       0          1                                  0   \n",
       "600                      1          1                                  1   \n",
       "4883                     0          0                                  0   \n",
       "1258                     1          0                                  1   \n",
       "\n",
       "     internet_service_type_None  gender_Male  \n",
       "440                           0            0  \n",
       "67                            0            1  \n",
       "600                           0            0  \n",
       "4883                          0            1  \n",
       "1258                          0            0  \n",
       "\n",
       "[5 rows x 42 columns]"
      ]
     },
     "execution_count": 36,
     "metadata": {},
     "output_type": "execute_result"
    }
   ],
   "source": [
    "telco_train.head()"
   ]
  },
  {
   "cell_type": "code",
   "execution_count": 37,
   "id": "8d1ef8e2",
   "metadata": {},
   "outputs": [
    {
     "name": "stdout",
     "output_type": "stream",
     "text": [
      "<class 'pandas.core.frame.DataFrame'>\n",
      "Int64Index: 4225 entries, 440 to 6958\n",
      "Data columns (total 42 columns):\n",
      " #   Column                                 Non-Null Count  Dtype  \n",
      "---  ------                                 --------------  -----  \n",
      " 0   customer_id                            4225 non-null   object \n",
      " 1   senior_citizen                         4225 non-null   int64  \n",
      " 2   tenure                                 4225 non-null   int64  \n",
      " 3   monthly_charges                        4225 non-null   float64\n",
      " 4   total_charges                          4225 non-null   float64\n",
      " 5   phone_service.1                        4225 non-null   object \n",
      " 6   multiple_lines.1                       4225 non-null   object \n",
      " 7   internet_service_type_id.1             4225 non-null   int64  \n",
      " 8   online_security.1                      4225 non-null   object \n",
      " 9   online_backup.1                        4225 non-null   object \n",
      " 10  device_protection.1                    4225 non-null   object \n",
      " 11  tech_support.1                         4225 non-null   object \n",
      " 12  streaming_tv.1                         4225 non-null   object \n",
      " 13  streaming_movies.1                     4225 non-null   object \n",
      " 14  contract_type_id.1                     4225 non-null   int64  \n",
      " 15  paperless_billing.1                    4225 non-null   object \n",
      " 16  payment_type_id.1                      4225 non-null   int64  \n",
      " 17  monthly_charges.1                      4225 non-null   float64\n",
      " 18  total_charges.1                        4225 non-null   object \n",
      " 19  internet_service_type_id.2             4225 non-null   int64  \n",
      " 20  partner_Yes                            4225 non-null   uint8  \n",
      " 21  dependents_Yes                         4225 non-null   uint8  \n",
      " 22  phone_service_Yes                      4225 non-null   uint8  \n",
      " 23  multiple_lines_No phone service        4225 non-null   uint8  \n",
      " 24  multiple_lines_Yes                     4225 non-null   uint8  \n",
      " 25  online_security_No internet service    4225 non-null   uint8  \n",
      " 26  online_security_Yes                    4225 non-null   uint8  \n",
      " 27  online_backup_No internet service      4225 non-null   uint8  \n",
      " 28  online_backup_Yes                      4225 non-null   uint8  \n",
      " 29  device_protection_No internet service  4225 non-null   uint8  \n",
      " 30  device_protection_Yes                  4225 non-null   uint8  \n",
      " 31  tech_support_No internet service       4225 non-null   uint8  \n",
      " 32  tech_support_Yes                       4225 non-null   uint8  \n",
      " 33  streaming_tv_No internet service       4225 non-null   uint8  \n",
      " 34  streaming_tv_Yes                       4225 non-null   uint8  \n",
      " 35  streaming_movies_No internet service   4225 non-null   uint8  \n",
      " 36  streaming_movies_Yes                   4225 non-null   uint8  \n",
      " 37  paperless_billing_Yes                  4225 non-null   uint8  \n",
      " 38  churn_Yes                              4225 non-null   uint8  \n",
      " 39  internet_service_type_Fiber optic      4225 non-null   uint8  \n",
      " 40  internet_service_type_None             4225 non-null   uint8  \n",
      " 41  gender_Male                            4225 non-null   uint8  \n",
      "dtypes: float64(3), int64(6), object(11), uint8(22)\n",
      "memory usage: 783.9+ KB\n"
     ]
    }
   ],
   "source": [
    "telco_train.info()\n",
    "telco_train.drop(columns=['customer_id','internet_service_type_id.1','contract_type_id.1','payment_type_id.1','internet_service_type_id.2','monthly_charges.1','total_charges.1'],inplace=True)\n",
    "telco_validate.drop(columns=['customer_id','internet_service_type_id.1','contract_type_id.1','payment_type_id.1','internet_service_type_id.2','monthly_charges.1','total_charges.1'],inplace=True)\n",
    "telco_test.drop(columns=['customer_id','internet_service_type_id.1','contract_type_id.1','payment_type_id.1','internet_service_type_id.2','monthly_charges.1','total_charges.1'],inplace=True)"
   ]
  },
  {
   "cell_type": "code",
   "execution_count": 38,
   "id": "032f9e1c",
   "metadata": {},
   "outputs": [
    {
     "name": "stdout",
     "output_type": "stream",
     "text": [
      "<class 'pandas.core.frame.DataFrame'>\n",
      "Int64Index: 4225 entries, 440 to 6958\n",
      "Data columns (total 35 columns):\n",
      " #   Column                                 Non-Null Count  Dtype  \n",
      "---  ------                                 --------------  -----  \n",
      " 0   senior_citizen                         4225 non-null   int64  \n",
      " 1   tenure                                 4225 non-null   int64  \n",
      " 2   monthly_charges                        4225 non-null   float64\n",
      " 3   total_charges                          4225 non-null   float64\n",
      " 4   phone_service.1                        4225 non-null   object \n",
      " 5   multiple_lines.1                       4225 non-null   object \n",
      " 6   online_security.1                      4225 non-null   object \n",
      " 7   online_backup.1                        4225 non-null   object \n",
      " 8   device_protection.1                    4225 non-null   object \n",
      " 9   tech_support.1                         4225 non-null   object \n",
      " 10  streaming_tv.1                         4225 non-null   object \n",
      " 11  streaming_movies.1                     4225 non-null   object \n",
      " 12  paperless_billing.1                    4225 non-null   object \n",
      " 13  partner_Yes                            4225 non-null   uint8  \n",
      " 14  dependents_Yes                         4225 non-null   uint8  \n",
      " 15  phone_service_Yes                      4225 non-null   uint8  \n",
      " 16  multiple_lines_No phone service        4225 non-null   uint8  \n",
      " 17  multiple_lines_Yes                     4225 non-null   uint8  \n",
      " 18  online_security_No internet service    4225 non-null   uint8  \n",
      " 19  online_security_Yes                    4225 non-null   uint8  \n",
      " 20  online_backup_No internet service      4225 non-null   uint8  \n",
      " 21  online_backup_Yes                      4225 non-null   uint8  \n",
      " 22  device_protection_No internet service  4225 non-null   uint8  \n",
      " 23  device_protection_Yes                  4225 non-null   uint8  \n",
      " 24  tech_support_No internet service       4225 non-null   uint8  \n",
      " 25  tech_support_Yes                       4225 non-null   uint8  \n",
      " 26  streaming_tv_No internet service       4225 non-null   uint8  \n",
      " 27  streaming_tv_Yes                       4225 non-null   uint8  \n",
      " 28  streaming_movies_No internet service   4225 non-null   uint8  \n",
      " 29  streaming_movies_Yes                   4225 non-null   uint8  \n",
      " 30  paperless_billing_Yes                  4225 non-null   uint8  \n",
      " 31  churn_Yes                              4225 non-null   uint8  \n",
      " 32  internet_service_type_Fiber optic      4225 non-null   uint8  \n",
      " 33  internet_service_type_None             4225 non-null   uint8  \n",
      " 34  gender_Male                            4225 non-null   uint8  \n",
      "dtypes: float64(2), int64(2), object(9), uint8(22)\n",
      "memory usage: 552.9+ KB\n"
     ]
    }
   ],
   "source": [
    "telco_train.info()"
   ]
  },
  {
   "cell_type": "code",
   "execution_count": 39,
   "id": "5c3b9c1b",
   "metadata": {},
   "outputs": [
    {
     "data": {
      "text/plain": [
       "0    0\n",
       "Name: churn_Yes, dtype: uint8"
      ]
     },
     "execution_count": 39,
     "metadata": {},
     "output_type": "execute_result"
    }
   ],
   "source": [
    "telco_train.churn_Yes.mode()"
   ]
  },
  {
   "cell_type": "code",
   "execution_count": 40,
   "id": "dbf68852",
   "metadata": {},
   "outputs": [],
   "source": [
    "telco_x_train = telco_train.select_dtypes(exclude=['object']).drop(columns=['churn_Yes'])\n",
    "telco_y_train = telco_train.select_dtypes(exclude=['object']).churn_Yes\n",
    "\n",
    "telco_x_validate = telco_validate.select_dtypes(exclude=['object']).drop(columns=['churn_Yes'])\n",
    "telco_y_validate = telco_validate.select_dtypes(exclude=['object']).churn_Yes\n",
    "\n",
    "telco_x_test = telco_test.select_dtypes(exclude=['object']).drop(columns=['churn_Yes'])\n",
    "telco_y_test = telco_test.select_dtypes(exclude=['object']).churn_Yes"
   ]
  },
  {
   "cell_type": "code",
   "execution_count": 41,
   "id": "0e69cfd1",
   "metadata": {},
   "outputs": [
    {
     "data": {
      "text/plain": [
       "0.7311242603550295"
      ]
     },
     "execution_count": 41,
     "metadata": {},
     "output_type": "execute_result"
    }
   ],
   "source": [
    "(telco_y_train==0).mean()"
   ]
  },
  {
   "cell_type": "markdown",
   "id": "afb9f88a",
   "metadata": {},
   "source": [
    "The baseline is not churn, and the accuracy is .73"
   ]
  },
  {
   "cell_type": "code",
   "execution_count": 42,
   "id": "0eec1029",
   "metadata": {},
   "outputs": [],
   "source": [
    "clf_telco = DecisionTreeClassifier(max_depth=3, random_state=123)\n",
    "clf_telco = clf_telco.fit(telco_x_train, telco_y_train)"
   ]
  },
  {
   "cell_type": "code",
   "execution_count": 43,
   "id": "08feb386",
   "metadata": {},
   "outputs": [
    {
     "data": {
      "text/plain": [
       "[Text(0.5, 0.875, 'internet_service_type_Fiber optic <= 0.5\\ngini = 0.393\\nsamples = 4225\\nvalue = [3089, 1136]'),\n",
       " Text(0.25, 0.625, 'tenure <= 5.5\\ngini = 0.24\\nsamples = 2328\\nvalue = [2003, 325]'),\n",
       " Text(0.125, 0.375, 'internet_service_type_None <= 0.5\\ngini = 0.462\\nsamples = 461\\nvalue = [294, 167]'),\n",
       " Text(0.0625, 0.125, 'gini = 0.499\\nsamples = 266\\nvalue = [140, 126]'),\n",
       " Text(0.1875, 0.125, 'gini = 0.332\\nsamples = 195\\nvalue = [154, 41]'),\n",
       " Text(0.375, 0.375, 'tenure <= 25.5\\ngini = 0.155\\nsamples = 1867\\nvalue = [1709, 158]'),\n",
       " Text(0.3125, 0.125, 'gini = 0.25\\nsamples = 649\\nvalue = [554, 95]'),\n",
       " Text(0.4375, 0.125, 'gini = 0.098\\nsamples = 1218\\nvalue = [1155, 63]'),\n",
       " Text(0.75, 0.625, 'tenure <= 17.5\\ngini = 0.489\\nsamples = 1897\\nvalue = [1086, 811]'),\n",
       " Text(0.625, 0.375, 'tenure <= 2.5\\ngini = 0.43\\nsamples = 677\\nvalue = [212, 465]'),\n",
       " Text(0.5625, 0.125, 'gini = 0.273\\nsamples = 208\\nvalue = [34, 174]'),\n",
       " Text(0.6875, 0.125, 'gini = 0.471\\nsamples = 469\\nvalue = [178, 291]'),\n",
       " Text(0.875, 0.375, 'tenure <= 43.5\\ngini = 0.406\\nsamples = 1220\\nvalue = [874, 346]'),\n",
       " Text(0.8125, 0.125, 'gini = 0.484\\nsamples = 508\\nvalue = [299, 209]'),\n",
       " Text(0.9375, 0.125, 'gini = 0.311\\nsamples = 712\\nvalue = [575, 137]')]"
      ]
     },
     "execution_count": 43,
     "metadata": {},
     "output_type": "execute_result"
    },
    {
     "data": {
      "image/png": "[encoded data removed]",
      "text/plain": [
       "<Figure size 936x504 with 1 Axes>"
      ]
     },
     "metadata": {
      "needs_background": "light"
     },
     "output_type": "display_data"
    }
   ],
   "source": [
    "plt.figure(figsize=(13, 7))\n",
    "plot_tree(clf_telco, feature_names=telco_x_train.columns, rounded=True)"
   ]
  },
  {
   "cell_type": "code",
   "execution_count": 48,
   "id": "e9c9afee",
   "metadata": {},
   "outputs": [
    {
     "data": {
      "text/html": [
       "<div>\n",
       "<style scoped>\n",
       "    .dataframe tbody tr th:only-of-type {\n",
       "        vertical-align: middle;\n",
       "    }\n",
       "\n",
       "    .dataframe tbody tr th {\n",
       "        vertical-align: top;\n",
       "    }\n",
       "\n",
       "    .dataframe thead th {\n",
       "        text-align: right;\n",
       "    }\n",
       "</style>\n",
       "<table border=\"1\" class=\"dataframe\">\n",
       "  <thead>\n",
       "    <tr style=\"text-align: right;\">\n",
       "      <th></th>\n",
       "      <th>churn</th>\n",
       "      <th>baseline</th>\n",
       "      <th>model_1</th>\n",
       "    </tr>\n",
       "  </thead>\n",
       "  <tbody>\n",
       "    <tr>\n",
       "      <th>440</th>\n",
       "      <td>1</td>\n",
       "      <td>0</td>\n",
       "      <td>0</td>\n",
       "    </tr>\n",
       "    <tr>\n",
       "      <th>67</th>\n",
       "      <td>1</td>\n",
       "      <td>0</td>\n",
       "      <td>0</td>\n",
       "    </tr>\n",
       "    <tr>\n",
       "      <th>600</th>\n",
       "      <td>1</td>\n",
       "      <td>0</td>\n",
       "      <td>0</td>\n",
       "    </tr>\n",
       "    <tr>\n",
       "      <th>4883</th>\n",
       "      <td>0</td>\n",
       "      <td>0</td>\n",
       "      <td>0</td>\n",
       "    </tr>\n",
       "    <tr>\n",
       "      <th>1258</th>\n",
       "      <td>0</td>\n",
       "      <td>0</td>\n",
       "      <td>0</td>\n",
       "    </tr>\n",
       "    <tr>\n",
       "      <th>...</th>\n",
       "      <td>...</td>\n",
       "      <td>...</td>\n",
       "      <td>...</td>\n",
       "    </tr>\n",
       "    <tr>\n",
       "      <th>1794</th>\n",
       "      <td>0</td>\n",
       "      <td>0</td>\n",
       "      <td>0</td>\n",
       "    </tr>\n",
       "    <tr>\n",
       "      <th>817</th>\n",
       "      <td>0</td>\n",
       "      <td>0</td>\n",
       "      <td>0</td>\n",
       "    </tr>\n",
       "    <tr>\n",
       "      <th>901</th>\n",
       "      <td>0</td>\n",
       "      <td>0</td>\n",
       "      <td>0</td>\n",
       "    </tr>\n",
       "    <tr>\n",
       "      <th>1987</th>\n",
       "      <td>0</td>\n",
       "      <td>0</td>\n",
       "      <td>1</td>\n",
       "    </tr>\n",
       "    <tr>\n",
       "      <th>6958</th>\n",
       "      <td>0</td>\n",
       "      <td>0</td>\n",
       "      <td>0</td>\n",
       "    </tr>\n",
       "  </tbody>\n",
       "</table>\n",
       "<p>4225 rows × 3 columns</p>\n",
       "</div>"
      ],
      "text/plain": [
       "      churn  baseline  model_1\n",
       "440       1         0        0\n",
       "67        1         0        0\n",
       "600       1         0        0\n",
       "4883      0         0        0\n",
       "1258      0         0        0\n",
       "...     ...       ...      ...\n",
       "1794      0         0        0\n",
       "817       0         0        0\n",
       "901       0         0        0\n",
       "1987      0         0        1\n",
       "6958      0         0        0\n",
       "\n",
       "[4225 rows x 3 columns]"
      ]
     },
     "execution_count": 48,
     "metadata": {},
     "output_type": "execute_result"
    }
   ],
   "source": [
    "telco_y_pred = pd.DataFrame({'churn': telco_y_train,'baseline': 0, 'model_1':clf_telco.predict(telco_x_train)})\n",
    "telco_y_pred"
   ]
  },
  {
   "cell_type": "code",
   "execution_count": 49,
   "id": "3c9a18e1",
   "metadata": {},
   "outputs": [
    {
     "data": {
      "text/plain": [
       "array([[0.80758427, 0.19241573],\n",
       "       [0.94827586, 0.05172414],\n",
       "       [0.80758427, 0.19241573],\n",
       "       [0.94827586, 0.05172414],\n",
       "       [0.58858268, 0.41141732]])"
      ]
     },
     "execution_count": 49,
     "metadata": {},
     "output_type": "execute_result"
    }
   ],
   "source": [
    "y_pred_proba = clf_telco.predict_proba(telco_x_train)\n",
    "y_pred_proba[0:5]"
   ]
  },
  {
   "cell_type": "code",
   "execution_count": 50,
   "id": "c21cb7a1",
   "metadata": {},
   "outputs": [
    {
     "name": "stdout",
     "output_type": "stream",
     "text": [
      "Accuracy of Decision Tree classifier on training set: 0.79\n"
     ]
    }
   ],
   "source": [
    "print('Accuracy of Decision Tree classifier on training set: {:.2f}'\n",
    "      .format(clf_telco.score(telco_x_train, telco_y_train)))"
   ]
  },
  {
   "cell_type": "code",
   "execution_count": 51,
   "id": "91712052",
   "metadata": {},
   "outputs": [
    {
     "data": {
      "text/plain": [
       "array([[2877,  212],\n",
       "       [ 671,  465]])"
      ]
     },
     "execution_count": 51,
     "metadata": {},
     "output_type": "execute_result"
    }
   ],
   "source": [
    "confusion_matrix(telco_y_pred.churn, telco_y_pred.model_1)"
   ]
  },
  {
   "cell_type": "code",
   "execution_count": 52,
   "id": "655ffb6f",
   "metadata": {},
   "outputs": [
    {
     "name": "stdout",
     "output_type": "stream",
     "text": [
      "              precision    recall  f1-score   support\n",
      "\n",
      "           0       0.81      0.93      0.87      3089\n",
      "           1       0.69      0.41      0.51      1136\n",
      "\n",
      "    accuracy                           0.79      4225\n",
      "   macro avg       0.75      0.67      0.69      4225\n",
      "weighted avg       0.78      0.79      0.77      4225\n",
      "\n"
     ]
    }
   ],
   "source": [
    "print(classification_report(telco_y_pred.churn,telco_y_pred.model_1))"
   ]
  },
  {
   "cell_type": "code",
   "execution_count": 53,
   "id": "1bdc8045",
   "metadata": {},
   "outputs": [
    {
     "data": {
      "text/html": [
       "<div>\n",
       "<style scoped>\n",
       "    .dataframe tbody tr th:only-of-type {\n",
       "        vertical-align: middle;\n",
       "    }\n",
       "\n",
       "    .dataframe tbody tr th {\n",
       "        vertical-align: top;\n",
       "    }\n",
       "\n",
       "    .dataframe thead th {\n",
       "        text-align: right;\n",
       "    }\n",
       "</style>\n",
       "<table border=\"1\" class=\"dataframe\">\n",
       "  <thead>\n",
       "    <tr style=\"text-align: right;\">\n",
       "      <th></th>\n",
       "      <th>prep_notchurn</th>\n",
       "      <th>prep_churn</th>\n",
       "    </tr>\n",
       "  </thead>\n",
       "  <tbody>\n",
       "    <tr>\n",
       "      <th>actual_notchurn</th>\n",
       "      <td>2877</td>\n",
       "      <td>212</td>\n",
       "    </tr>\n",
       "    <tr>\n",
       "      <th>acutal_churn</th>\n",
       "      <td>671</td>\n",
       "      <td>465</td>\n",
       "    </tr>\n",
       "  </tbody>\n",
       "</table>\n",
       "</div>"
      ],
      "text/plain": [
       "                 prep_notchurn  prep_churn\n",
       "actual_notchurn           2877         212\n",
       "acutal_churn               671         465"
      ]
     },
     "execution_count": 53,
     "metadata": {},
     "output_type": "execute_result"
    }
   ],
   "source": [
    "pd.DataFrame(confusion_matrix(telco_y_pred.churn, telco_y_pred.model_1), index=['actual_notchurn','acutal_churn'], columns=['prep_notchurn','prep_churn'])"
   ]
  },
  {
   "cell_type": "code",
   "execution_count": 54,
   "id": "492daa9c",
   "metadata": {},
   "outputs": [],
   "source": [
    "telco_TN = 2877\n",
    "telco_FP = 212\n",
    "telco_FN = 671\n",
    "telco_TP = 465"
   ]
  },
  {
   "cell_type": "code",
   "execution_count": 55,
   "id": "88d76d7d",
   "metadata": {},
   "outputs": [],
   "source": [
    "telco_all = telco_TP + telco_FP + telco_FN + telco_TN\n",
    "telco_acc = (telco_TP + telco_TN) / telco_all\n",
    "\n",
    "telco_TurePositiveRate = telco_recall = telco_TP/ (telco_TP + telco_FN)\n",
    "\n",
    "telco_FalsePositiveRate = telco_FP / (telco_FP + telco_TN)\n",
    "\n",
    "telco_TrueNegativeRate = telco_TN / (telco_TN + telco_FP)\n",
    "\n",
    "telco_FalseNegativeRate = telco_FN / (telco_FN + telco_TP)\n",
    "\n",
    "telco_precision = telco_TP / (telco_TP + telco_FP)\n",
    "\n",
    "telco_f1_score = 2 * (telco_precision*telco_recall) / (telco_precision+telco_recall)\n",
    "\n",
    "telco_support_pos = telco_TP + telco_FN\n",
    "telco_support_neg = telco_FP + telco_TN"
   ]
  },
  {
   "cell_type": "code",
   "execution_count": 56,
   "id": "063af76b",
   "metadata": {},
   "outputs": [
    {
     "name": "stdout",
     "output_type": "stream",
     "text": [
      "accuracy is: 0.7910059171597633 Ture Positive Rate is: 0.40933098591549294 False Positive Rate is: 0.06863062479766915 /n True Negative Rate is: 0.9313693752023309 False Negative Rate is: 0.590669014084507 precision is: 0.6868537666174298 /n f1_score is: 0.51296194153337 support_pos is: 1136 support_neg is: 3089\n"
     ]
    }
   ],
   "source": [
    "print('accuracy is:',telco_acc,'Ture Positive Rate is:',telco_TurePositiveRate,'False Positive Rate is:',telco_FalsePositiveRate,'/n',\n",
    "      'True Negative Rate is:',telco_TrueNegativeRate,'False Negative Rate is:',telco_FalseNegativeRate,'precision is:',telco_precision,'/n',\n",
    "      'f1_score is:',telco_f1_score,'support_pos is:',telco_support_pos,'support_neg is:',telco_support_neg)"
   ]
  },
  {
   "cell_type": "code",
   "execution_count": 57,
   "id": "9f735ec3",
   "metadata": {},
   "outputs": [
    {
     "name": "stdout",
     "output_type": "stream",
     "text": [
      "              precision    recall  f1-score   support\n",
      "\n",
      "           0       0.81      0.93      0.87      3089\n",
      "           1       0.69      0.41      0.51      1136\n",
      "\n",
      "    accuracy                           0.79      4225\n",
      "   macro avg       0.75      0.67      0.69      4225\n",
      "weighted avg       0.78      0.79      0.77      4225\n",
      "\n"
     ]
    }
   ],
   "source": [
    "print(classification_report(telco_y_train, telco_y_pred.model_1))"
   ]
  },
  {
   "cell_type": "code",
   "execution_count": null,
   "id": "7fd486a1",
   "metadata": {},
   "outputs": [],
   "source": []
  },
  {
   "cell_type": "markdown",
   "id": "c081327c",
   "metadata": {},
   "source": [
    "# random forest"
   ]
  },
  {
   "cell_type": "code",
   "execution_count": null,
   "id": "fc685681",
   "metadata": {},
   "outputs": [],
   "source": []
  },
  {
   "cell_type": "code",
   "execution_count": 70,
   "id": "af8317ee",
   "metadata": {},
   "outputs": [
    {
     "data": {
      "text/plain": [
       "RandomForestClassifier(max_depth=10, random_state=123)"
      ]
     },
     "execution_count": 70,
     "metadata": {},
     "output_type": "execute_result"
    }
   ],
   "source": [
    "from sklearn.model_selection import train_test_split\n",
    "from sklearn.ensemble import RandomForestClassifier\n",
    "from sklearn.metrics import classification_report\n",
    "from sklearn.metrics import confusion_matrix\n",
    "from sklearn.metrics import ConfusionMatrixDisplay\n",
    "rf = RandomForestClassifier(bootstrap=True, \n",
    "                            class_weight=None, \n",
    "                            criterion='gini',\n",
    "                            min_samples_leaf=1,\n",
    "                            n_estimators=100,\n",
    "                            max_depth=10, \n",
    "                            random_state=123)\n",
    "rf.fit(x_train, y_train)"
   ]
  },
  {
   "cell_type": "code",
   "execution_count": 81,
   "id": "fd399af8",
   "metadata": {},
   "outputs": [
    {
     "data": {
      "text/plain": [
       "0.8146067415730337"
      ]
     },
     "execution_count": 81,
     "metadata": {},
     "output_type": "execute_result"
    }
   ],
   "source": [
    "clf.score(x_train,y_train)"
   ]
  },
  {
   "cell_type": "code",
   "execution_count": 63,
   "id": "535f0113",
   "metadata": {},
   "outputs": [],
   "source": [
    "y_predict=rf.predict(x_train)"
   ]
  },
  {
   "cell_type": "code",
   "execution_count": 65,
   "id": "24cba46e",
   "metadata": {},
   "outputs": [
    {
     "name": "stdout",
     "output_type": "stream",
     "text": [
      "              precision    recall  f1-score   support\n",
      "\n",
      "           0       0.95      1.00      0.97       329\n",
      "           1       1.00      0.92      0.96       205\n",
      "\n",
      "    accuracy                           0.97       534\n",
      "   macro avg       0.98      0.96      0.97       534\n",
      "weighted avg       0.97      0.97      0.97       534\n",
      "\n"
     ]
    }
   ],
   "source": [
    "print(classification_report(y_train,y_predict))"
   ]
  },
  {
   "cell_type": "code",
   "execution_count": null,
   "id": "c862807e",
   "metadata": {},
   "outputs": [],
   "source": []
  },
  {
   "cell_type": "code",
   "execution_count": 66,
   "id": "0a71d1db",
   "metadata": {},
   "outputs": [
    {
     "data": {
      "text/plain": [
       "array([[329,   0],\n",
       "       [ 17, 188]])"
      ]
     },
     "execution_count": 66,
     "metadata": {},
     "output_type": "execute_result"
    }
   ],
   "source": [
    "confusion_matrix(y_train,y_predict)"
   ]
  },
  {
   "cell_type": "code",
   "execution_count": 73,
   "id": "e1a082ba",
   "metadata": {},
   "outputs": [
    {
     "data": {
      "text/plain": [
       "<sklearn.metrics._plot.confusion_matrix.ConfusionMatrixDisplay at 0x146d12a30>"
      ]
     },
     "execution_count": 73,
     "metadata": {},
     "output_type": "execute_result"
    },
    {
     "data": {
      "image/png": "[encoded data removed]",
      "text/plain": [
       "<Figure size 432x288 with 2 Axes>"
      ]
     },
     "metadata": {
      "needs_background": "light"
     },
     "output_type": "display_data"
    }
   ],
   "source": [
    "ConfusionMatrixDisplay(confusion_matrix(y_train,y_predict),display_labels=rf.classes_).plot()"
   ]
  },
  {
   "cell_type": "code",
   "execution_count": 77,
   "id": "68b07afa",
   "metadata": {},
   "outputs": [],
   "source": [
    "TN = 329\n",
    "FP = 0\n",
    "FN = 12\n",
    "TP = 188"
   ]
  },
  {
   "cell_type": "code",
   "execution_count": 79,
   "id": "21e84e6e",
   "metadata": {},
   "outputs": [],
   "source": [
    "all = TP + FP + FN + TN\n",
    "acc = (TP + TN) / all\n",
    "\n",
    "TurePositiveRate = recall = TP/ (TP + FN)\n",
    "\n",
    "FalsePositiveRate = FP / (FP + TN)\n",
    "\n",
    "TrueNegativeRate = TN / (TN + FP)\n",
    "\n",
    "FalseNegativeRate = FN / (FN + TP)\n",
    "\n",
    "precision = TP / (TP + FP)\n",
    "\n",
    "f1_score = 2 * (precision*recall) / (precision+recall)\n",
    "\n",
    "support_pos = TP + FN\n",
    "support_neg = FP + TN"
   ]
  },
  {
   "cell_type": "code",
   "execution_count": 80,
   "id": "defb1940",
   "metadata": {},
   "outputs": [
    {
     "name": "stdout",
     "output_type": "stream",
     "text": [
      "accuracy is: 0.9773156899810964 Ture Positive Rate is: 0.94 False Positive Rate is: 0.0 /n True Negative Rate is: 1.0 False Negative Rate is: 0.06 precision is: 1.0 /n f1_score is: 0.9690721649484536 support_pos is: 200 support_neg is: 329\n"
     ]
    }
   ],
   "source": [
    "print('accuracy is:',acc,'Ture Positive Rate is:',TurePositiveRate,'False Positive Rate is:',FalsePositiveRate,'/n',\n",
    "      'True Negative Rate is:',TrueNegativeRate,'False Negative Rate is:',FalseNegativeRate,'precision is:',precision,'/n',\n",
    "      'f1_score is:',f1_score,'support_pos is:',support_pos,'support_neg is:',support_neg)"
   ]
  },
  {
   "cell_type": "code",
   "execution_count": 76,
   "id": "70e54e52",
   "metadata": {},
   "outputs": [
    {
     "name": "stdout",
     "output_type": "stream",
     "text": [
      "model depth 2\n",
      "              precision    recall  f1-score   support\n",
      "\n",
      "           0       0.80      0.92      0.86       329\n",
      "           1       0.84      0.63      0.72       205\n",
      "\n",
      "    accuracy                           0.81       534\n",
      "   macro avg       0.82      0.78      0.79       534\n",
      "weighted avg       0.81      0.81      0.80       534\n",
      "\n",
      "model depth 3\n",
      "              precision    recall  f1-score   support\n",
      "\n",
      "           0       0.81      0.94      0.87       329\n",
      "           1       0.87      0.64      0.74       205\n",
      "\n",
      "    accuracy                           0.83       534\n",
      "   macro avg       0.84      0.79      0.81       534\n",
      "weighted avg       0.83      0.83      0.82       534\n",
      "\n",
      "model depth 4\n",
      "              precision    recall  f1-score   support\n",
      "\n",
      "           0       0.82      0.94      0.88       329\n",
      "           1       0.88      0.67      0.76       205\n",
      "\n",
      "    accuracy                           0.84       534\n",
      "   macro avg       0.85      0.81      0.82       534\n",
      "weighted avg       0.84      0.84      0.83       534\n",
      "\n",
      "model depth 5\n",
      "              precision    recall  f1-score   support\n",
      "\n",
      "           0       0.85      0.96      0.90       329\n",
      "           1       0.92      0.72      0.81       205\n",
      "\n",
      "    accuracy                           0.87       534\n",
      "   macro avg       0.88      0.84      0.85       534\n",
      "weighted avg       0.87      0.87      0.87       534\n",
      "\n",
      "model depth 6\n",
      "              precision    recall  f1-score   support\n",
      "\n",
      "           0       0.88      0.98      0.93       329\n",
      "           1       0.96      0.78      0.86       205\n",
      "\n",
      "    accuracy                           0.90       534\n",
      "   macro avg       0.92      0.88      0.89       534\n",
      "weighted avg       0.91      0.90      0.90       534\n",
      "\n",
      "model depth 7\n",
      "              precision    recall  f1-score   support\n",
      "\n",
      "           0       0.90      0.99      0.94       329\n",
      "           1       0.98      0.82      0.90       205\n",
      "\n",
      "    accuracy                           0.93       534\n",
      "   macro avg       0.94      0.91      0.92       534\n",
      "weighted avg       0.93      0.93      0.93       534\n",
      "\n",
      "model depth 8\n",
      "              precision    recall  f1-score   support\n",
      "\n",
      "           0       0.93      0.99      0.96       329\n",
      "           1       0.99      0.88      0.93       205\n",
      "\n",
      "    accuracy                           0.95       534\n",
      "   macro avg       0.96      0.94      0.95       534\n",
      "weighted avg       0.95      0.95      0.95       534\n",
      "\n",
      "model depth 9\n",
      "              precision    recall  f1-score   support\n",
      "\n",
      "           0       0.95      0.99      0.97       329\n",
      "           1       0.99      0.91      0.95       205\n",
      "\n",
      "    accuracy                           0.96       534\n",
      "   macro avg       0.97      0.95      0.96       534\n",
      "weighted avg       0.96      0.96      0.96       534\n",
      "\n",
      "model depth 10\n",
      "              precision    recall  f1-score   support\n",
      "\n",
      "           0       0.95      1.00      0.97       329\n",
      "           1       1.00      0.92      0.96       205\n",
      "\n",
      "    accuracy                           0.97       534\n",
      "   macro avg       0.98      0.96      0.97       534\n",
      "weighted avg       0.97      0.97      0.97       534\n",
      "\n"
     ]
    }
   ],
   "source": [
    "for model in range (2,11):\n",
    "    rf=RandomForestClassifier(max_depth=model, random_state=123)\n",
    "    rf=rf.fit(x_train,y_train)\n",
    "    y_predict=rf.predict(x_train)\n",
    "    print('model depth',model)\n",
    "    print(classification_report(y_train, y_predict))"
   ]
  },
  {
   "cell_type": "code",
   "execution_count": 93,
   "id": "7a7fcffc",
   "metadata": {},
   "outputs": [
    {
     "data": {
      "text/html": [
       "<div>\n",
       "<style scoped>\n",
       "    .dataframe tbody tr th:only-of-type {\n",
       "        vertical-align: middle;\n",
       "    }\n",
       "\n",
       "    .dataframe tbody tr th {\n",
       "        vertical-align: top;\n",
       "    }\n",
       "\n",
       "    .dataframe thead th {\n",
       "        text-align: right;\n",
       "    }\n",
       "</style>\n",
       "<table border=\"1\" class=\"dataframe\">\n",
       "  <thead>\n",
       "    <tr style=\"text-align: right;\">\n",
       "      <th></th>\n",
       "      <th>max_depth</th>\n",
       "      <th>train_accuracy</th>\n",
       "      <th>validate_accuracy</th>\n",
       "      <th>difference</th>\n",
       "    </tr>\n",
       "  </thead>\n",
       "  <tbody>\n",
       "    <tr>\n",
       "      <th>0</th>\n",
       "      <td>2</td>\n",
       "      <td>0.810861</td>\n",
       "      <td>0.786517</td>\n",
       "      <td>0.024345</td>\n",
       "    </tr>\n",
       "    <tr>\n",
       "      <th>1</th>\n",
       "      <td>3</td>\n",
       "      <td>0.827715</td>\n",
       "      <td>0.792135</td>\n",
       "      <td>0.035581</td>\n",
       "    </tr>\n",
       "    <tr>\n",
       "      <th>2</th>\n",
       "      <td>4</td>\n",
       "      <td>0.838951</td>\n",
       "      <td>0.808989</td>\n",
       "      <td>0.029963</td>\n",
       "    </tr>\n",
       "    <tr>\n",
       "      <th>3</th>\n",
       "      <td>5</td>\n",
       "      <td>0.868914</td>\n",
       "      <td>0.803371</td>\n",
       "      <td>0.065543</td>\n",
       "    </tr>\n",
       "    <tr>\n",
       "      <th>4</th>\n",
       "      <td>6</td>\n",
       "      <td>0.902622</td>\n",
       "      <td>0.797753</td>\n",
       "      <td>0.104869</td>\n",
       "    </tr>\n",
       "    <tr>\n",
       "      <th>5</th>\n",
       "      <td>7</td>\n",
       "      <td>0.926966</td>\n",
       "      <td>0.797753</td>\n",
       "      <td>0.129213</td>\n",
       "    </tr>\n",
       "    <tr>\n",
       "      <th>6</th>\n",
       "      <td>8</td>\n",
       "      <td>0.949438</td>\n",
       "      <td>0.775281</td>\n",
       "      <td>0.174157</td>\n",
       "    </tr>\n",
       "    <tr>\n",
       "      <th>7</th>\n",
       "      <td>9</td>\n",
       "      <td>0.960674</td>\n",
       "      <td>0.758427</td>\n",
       "      <td>0.202247</td>\n",
       "    </tr>\n",
       "    <tr>\n",
       "      <th>8</th>\n",
       "      <td>10</td>\n",
       "      <td>0.968165</td>\n",
       "      <td>0.769663</td>\n",
       "      <td>0.198502</td>\n",
       "    </tr>\n",
       "    <tr>\n",
       "      <th>9</th>\n",
       "      <td>11</td>\n",
       "      <td>0.975655</td>\n",
       "      <td>0.764045</td>\n",
       "      <td>0.211610</td>\n",
       "    </tr>\n",
       "    <tr>\n",
       "      <th>10</th>\n",
       "      <td>12</td>\n",
       "      <td>0.979401</td>\n",
       "      <td>0.752809</td>\n",
       "      <td>0.226592</td>\n",
       "    </tr>\n",
       "    <tr>\n",
       "      <th>11</th>\n",
       "      <td>13</td>\n",
       "      <td>0.985019</td>\n",
       "      <td>0.741573</td>\n",
       "      <td>0.243446</td>\n",
       "    </tr>\n",
       "    <tr>\n",
       "      <th>12</th>\n",
       "      <td>14</td>\n",
       "      <td>0.996255</td>\n",
       "      <td>0.758427</td>\n",
       "      <td>0.237828</td>\n",
       "    </tr>\n",
       "    <tr>\n",
       "      <th>13</th>\n",
       "      <td>15</td>\n",
       "      <td>1.000000</td>\n",
       "      <td>0.758427</td>\n",
       "      <td>0.241573</td>\n",
       "    </tr>\n",
       "    <tr>\n",
       "      <th>14</th>\n",
       "      <td>16</td>\n",
       "      <td>1.000000</td>\n",
       "      <td>0.752809</td>\n",
       "      <td>0.247191</td>\n",
       "    </tr>\n",
       "    <tr>\n",
       "      <th>15</th>\n",
       "      <td>17</td>\n",
       "      <td>1.000000</td>\n",
       "      <td>0.747191</td>\n",
       "      <td>0.252809</td>\n",
       "    </tr>\n",
       "    <tr>\n",
       "      <th>16</th>\n",
       "      <td>18</td>\n",
       "      <td>1.000000</td>\n",
       "      <td>0.747191</td>\n",
       "      <td>0.252809</td>\n",
       "    </tr>\n",
       "    <tr>\n",
       "      <th>17</th>\n",
       "      <td>19</td>\n",
       "      <td>1.000000</td>\n",
       "      <td>0.758427</td>\n",
       "      <td>0.241573</td>\n",
       "    </tr>\n",
       "    <tr>\n",
       "      <th>18</th>\n",
       "      <td>20</td>\n",
       "      <td>1.000000</td>\n",
       "      <td>0.758427</td>\n",
       "      <td>0.241573</td>\n",
       "    </tr>\n",
       "    <tr>\n",
       "      <th>19</th>\n",
       "      <td>21</td>\n",
       "      <td>1.000000</td>\n",
       "      <td>0.758427</td>\n",
       "      <td>0.241573</td>\n",
       "    </tr>\n",
       "    <tr>\n",
       "      <th>20</th>\n",
       "      <td>22</td>\n",
       "      <td>1.000000</td>\n",
       "      <td>0.758427</td>\n",
       "      <td>0.241573</td>\n",
       "    </tr>\n",
       "    <tr>\n",
       "      <th>21</th>\n",
       "      <td>23</td>\n",
       "      <td>1.000000</td>\n",
       "      <td>0.758427</td>\n",
       "      <td>0.241573</td>\n",
       "    </tr>\n",
       "    <tr>\n",
       "      <th>22</th>\n",
       "      <td>24</td>\n",
       "      <td>1.000000</td>\n",
       "      <td>0.758427</td>\n",
       "      <td>0.241573</td>\n",
       "    </tr>\n",
       "  </tbody>\n",
       "</table>\n",
       "</div>"
      ],
      "text/plain": [
       "    max_depth  train_accuracy  validate_accuracy  difference\n",
       "0           2        0.810861           0.786517    0.024345\n",
       "1           3        0.827715           0.792135    0.035581\n",
       "2           4        0.838951           0.808989    0.029963\n",
       "3           5        0.868914           0.803371    0.065543\n",
       "4           6        0.902622           0.797753    0.104869\n",
       "5           7        0.926966           0.797753    0.129213\n",
       "6           8        0.949438           0.775281    0.174157\n",
       "7           9        0.960674           0.758427    0.202247\n",
       "8          10        0.968165           0.769663    0.198502\n",
       "9          11        0.975655           0.764045    0.211610\n",
       "10         12        0.979401           0.752809    0.226592\n",
       "11         13        0.985019           0.741573    0.243446\n",
       "12         14        0.996255           0.758427    0.237828\n",
       "13         15        1.000000           0.758427    0.241573\n",
       "14         16        1.000000           0.752809    0.247191\n",
       "15         17        1.000000           0.747191    0.252809\n",
       "16         18        1.000000           0.747191    0.252809\n",
       "17         19        1.000000           0.758427    0.241573\n",
       "18         20        1.000000           0.758427    0.241573\n",
       "19         21        1.000000           0.758427    0.241573\n",
       "20         22        1.000000           0.758427    0.241573\n",
       "21         23        1.000000           0.758427    0.241573\n",
       "22         24        1.000000           0.758427    0.241573"
      ]
     },
     "execution_count": 93,
     "metadata": {},
     "output_type": "execute_result"
    }
   ],
   "source": [
    "model=[]\n",
    "for num in range (2,25):\n",
    "    rf=RandomForestClassifier(max_depth=num,random_state=123)\n",
    "    rf=rf.fit(x_train,y_train)\n",
    "    train_accuracy=rf.score(x_train,y_train)\n",
    "    validate_accuracy=rf.score(x_validate,y_validate)\n",
    "    result = {\n",
    "        \"max_depth\": num,\n",
    "        \"train_accuracy\": train_accuracy,\n",
    "        \"validate_accuracy\": validate_accuracy\n",
    "    }\n",
    "    model.append(result)\n",
    "test_validate = pd.DataFrame(model)\n",
    "test_validate[\"difference\"] = test_validate.train_accuracy - test_validate.validate_accuracy\n",
    "test_validate"
   ]
  },
  {
   "cell_type": "code",
   "execution_count": 94,
   "id": "f8e4f2e8",
   "metadata": {},
   "outputs": [],
   "source": [
    "# increasing leaf and decreasing max_depth"
   ]
  },
  {
   "cell_type": "code",
   "execution_count": 100,
   "id": "2a5870de",
   "metadata": {},
   "outputs": [
    {
     "data": {
      "text/html": [
       "<div>\n",
       "<style scoped>\n",
       "    .dataframe tbody tr th:only-of-type {\n",
       "        vertical-align: middle;\n",
       "    }\n",
       "\n",
       "    .dataframe tbody tr th {\n",
       "        vertical-align: top;\n",
       "    }\n",
       "\n",
       "    .dataframe thead th {\n",
       "        text-align: right;\n",
       "    }\n",
       "</style>\n",
       "<table border=\"1\" class=\"dataframe\">\n",
       "  <thead>\n",
       "    <tr style=\"text-align: right;\">\n",
       "      <th></th>\n",
       "      <th>min_samples_leaf</th>\n",
       "      <th>max_depth</th>\n",
       "      <th>train_accuracy</th>\n",
       "      <th>validate_accuracy</th>\n",
       "      <th>difference</th>\n",
       "    </tr>\n",
       "  </thead>\n",
       "  <tbody>\n",
       "    <tr>\n",
       "      <th>0</th>\n",
       "      <td>2</td>\n",
       "      <td>23</td>\n",
       "      <td>0.925094</td>\n",
       "      <td>0.786517</td>\n",
       "      <td>0.138577</td>\n",
       "    </tr>\n",
       "    <tr>\n",
       "      <th>1</th>\n",
       "      <td>3</td>\n",
       "      <td>22</td>\n",
       "      <td>0.898876</td>\n",
       "      <td>0.797753</td>\n",
       "      <td>0.101124</td>\n",
       "    </tr>\n",
       "    <tr>\n",
       "      <th>2</th>\n",
       "      <td>4</td>\n",
       "      <td>21</td>\n",
       "      <td>0.883895</td>\n",
       "      <td>0.792135</td>\n",
       "      <td>0.091760</td>\n",
       "    </tr>\n",
       "    <tr>\n",
       "      <th>3</th>\n",
       "      <td>5</td>\n",
       "      <td>20</td>\n",
       "      <td>0.867041</td>\n",
       "      <td>0.792135</td>\n",
       "      <td>0.074906</td>\n",
       "    </tr>\n",
       "    <tr>\n",
       "      <th>4</th>\n",
       "      <td>6</td>\n",
       "      <td>19</td>\n",
       "      <td>0.852060</td>\n",
       "      <td>0.786517</td>\n",
       "      <td>0.065543</td>\n",
       "    </tr>\n",
       "    <tr>\n",
       "      <th>5</th>\n",
       "      <td>7</td>\n",
       "      <td>18</td>\n",
       "      <td>0.846442</td>\n",
       "      <td>0.797753</td>\n",
       "      <td>0.048689</td>\n",
       "    </tr>\n",
       "    <tr>\n",
       "      <th>6</th>\n",
       "      <td>8</td>\n",
       "      <td>17</td>\n",
       "      <td>0.835206</td>\n",
       "      <td>0.803371</td>\n",
       "      <td>0.031835</td>\n",
       "    </tr>\n",
       "    <tr>\n",
       "      <th>7</th>\n",
       "      <td>9</td>\n",
       "      <td>16</td>\n",
       "      <td>0.844569</td>\n",
       "      <td>0.797753</td>\n",
       "      <td>0.046816</td>\n",
       "    </tr>\n",
       "    <tr>\n",
       "      <th>8</th>\n",
       "      <td>10</td>\n",
       "      <td>15</td>\n",
       "      <td>0.842697</td>\n",
       "      <td>0.797753</td>\n",
       "      <td>0.044944</td>\n",
       "    </tr>\n",
       "    <tr>\n",
       "      <th>9</th>\n",
       "      <td>11</td>\n",
       "      <td>14</td>\n",
       "      <td>0.838951</td>\n",
       "      <td>0.797753</td>\n",
       "      <td>0.041199</td>\n",
       "    </tr>\n",
       "    <tr>\n",
       "      <th>10</th>\n",
       "      <td>12</td>\n",
       "      <td>13</td>\n",
       "      <td>0.844569</td>\n",
       "      <td>0.797753</td>\n",
       "      <td>0.046816</td>\n",
       "    </tr>\n",
       "    <tr>\n",
       "      <th>11</th>\n",
       "      <td>13</td>\n",
       "      <td>12</td>\n",
       "      <td>0.838951</td>\n",
       "      <td>0.803371</td>\n",
       "      <td>0.035581</td>\n",
       "    </tr>\n",
       "    <tr>\n",
       "      <th>12</th>\n",
       "      <td>14</td>\n",
       "      <td>11</td>\n",
       "      <td>0.840824</td>\n",
       "      <td>0.797753</td>\n",
       "      <td>0.043071</td>\n",
       "    </tr>\n",
       "    <tr>\n",
       "      <th>13</th>\n",
       "      <td>15</td>\n",
       "      <td>10</td>\n",
       "      <td>0.838951</td>\n",
       "      <td>0.792135</td>\n",
       "      <td>0.046816</td>\n",
       "    </tr>\n",
       "    <tr>\n",
       "      <th>14</th>\n",
       "      <td>16</td>\n",
       "      <td>9</td>\n",
       "      <td>0.837079</td>\n",
       "      <td>0.792135</td>\n",
       "      <td>0.044944</td>\n",
       "    </tr>\n",
       "    <tr>\n",
       "      <th>15</th>\n",
       "      <td>17</td>\n",
       "      <td>8</td>\n",
       "      <td>0.831461</td>\n",
       "      <td>0.797753</td>\n",
       "      <td>0.033708</td>\n",
       "    </tr>\n",
       "    <tr>\n",
       "      <th>16</th>\n",
       "      <td>18</td>\n",
       "      <td>7</td>\n",
       "      <td>0.829588</td>\n",
       "      <td>0.803371</td>\n",
       "      <td>0.026217</td>\n",
       "    </tr>\n",
       "    <tr>\n",
       "      <th>17</th>\n",
       "      <td>19</td>\n",
       "      <td>6</td>\n",
       "      <td>0.825843</td>\n",
       "      <td>0.797753</td>\n",
       "      <td>0.028090</td>\n",
       "    </tr>\n",
       "    <tr>\n",
       "      <th>18</th>\n",
       "      <td>20</td>\n",
       "      <td>5</td>\n",
       "      <td>0.822097</td>\n",
       "      <td>0.792135</td>\n",
       "      <td>0.029963</td>\n",
       "    </tr>\n",
       "    <tr>\n",
       "      <th>19</th>\n",
       "      <td>21</td>\n",
       "      <td>4</td>\n",
       "      <td>0.820225</td>\n",
       "      <td>0.808989</td>\n",
       "      <td>0.011236</td>\n",
       "    </tr>\n",
       "    <tr>\n",
       "      <th>20</th>\n",
       "      <td>22</td>\n",
       "      <td>3</td>\n",
       "      <td>0.820225</td>\n",
       "      <td>0.792135</td>\n",
       "      <td>0.028090</td>\n",
       "    </tr>\n",
       "    <tr>\n",
       "      <th>21</th>\n",
       "      <td>23</td>\n",
       "      <td>2</td>\n",
       "      <td>0.797753</td>\n",
       "      <td>0.780899</td>\n",
       "      <td>0.016854</td>\n",
       "    </tr>\n",
       "    <tr>\n",
       "      <th>22</th>\n",
       "      <td>24</td>\n",
       "      <td>1</td>\n",
       "      <td>0.779026</td>\n",
       "      <td>0.764045</td>\n",
       "      <td>0.014981</td>\n",
       "    </tr>\n",
       "  </tbody>\n",
       "</table>\n",
       "</div>"
      ],
      "text/plain": [
       "    min_samples_leaf  max_depth  train_accuracy  validate_accuracy  difference\n",
       "0                  2         23        0.925094           0.786517    0.138577\n",
       "1                  3         22        0.898876           0.797753    0.101124\n",
       "2                  4         21        0.883895           0.792135    0.091760\n",
       "3                  5         20        0.867041           0.792135    0.074906\n",
       "4                  6         19        0.852060           0.786517    0.065543\n",
       "5                  7         18        0.846442           0.797753    0.048689\n",
       "6                  8         17        0.835206           0.803371    0.031835\n",
       "7                  9         16        0.844569           0.797753    0.046816\n",
       "8                 10         15        0.842697           0.797753    0.044944\n",
       "9                 11         14        0.838951           0.797753    0.041199\n",
       "10                12         13        0.844569           0.797753    0.046816\n",
       "11                13         12        0.838951           0.803371    0.035581\n",
       "12                14         11        0.840824           0.797753    0.043071\n",
       "13                15         10        0.838951           0.792135    0.046816\n",
       "14                16          9        0.837079           0.792135    0.044944\n",
       "15                17          8        0.831461           0.797753    0.033708\n",
       "16                18          7        0.829588           0.803371    0.026217\n",
       "17                19          6        0.825843           0.797753    0.028090\n",
       "18                20          5        0.822097           0.792135    0.029963\n",
       "19                21          4        0.820225           0.808989    0.011236\n",
       "20                22          3        0.820225           0.792135    0.028090\n",
       "21                23          2        0.797753           0.780899    0.016854\n",
       "22                24          1        0.779026           0.764045    0.014981"
      ]
     },
     "execution_count": 100,
     "metadata": {},
     "output_type": "execute_result"
    }
   ],
   "source": [
    "model=[]\n",
    "max_depth=25\n",
    "for num in range (2,max_depth):\n",
    "    mdepth=max_depth-num\n",
    "    min_leaf=num\n",
    "    rf=RandomForestClassifier(max_depth=mdepth,min_samples_leaf=min_leaf,random_state=123)\n",
    "    rf=rf.fit(x_train,y_train)\n",
    "    train_accuracy=rf.score(x_train,y_train)\n",
    "    validate_accuracy=rf.score(x_validate,y_validate)\n",
    "    result = {\n",
    "        'min_samples_leaf':min_leaf,\n",
    "        'max_depth': mdepth,\n",
    "        \"train_accuracy\": train_accuracy,\n",
    "        \"validate_accuracy\": validate_accuracy\n",
    "    }\n",
    "    model.append(result)\n",
    "test_validate = pd.DataFrame(model)\n",
    "test_validate[\"difference\"] = test_validate.train_accuracy - test_validate.validate_accuracy\n",
    "test_validate"
   ]
  },
  {
   "cell_type": "markdown",
   "id": "888b5084",
   "metadata": {},
   "source": [
    "## key takeaway\n",
    "the best model for increasing sample leaf while decreasing max_depth is model 16. the training model 0 perform the best while it has increased difference with validation, therefore, it is potentially overfitted.\n",
    "model 6 has the other better performance with small difference with validation. Therefore, if the model 6 is our secondary option."
   ]
  },
  {
   "cell_type": "code",
   "execution_count": 102,
   "id": "232d9260",
   "metadata": {},
   "outputs": [],
   "source": [
    "from sklearn.neighbors import KNeighborsClassifier\n"
   ]
  },
  {
   "cell_type": "code",
   "execution_count": 104,
   "id": "25990602",
   "metadata": {},
   "outputs": [
    {
     "data": {
      "text/plain": [
       "KNeighborsClassifier()"
      ]
     },
     "execution_count": 104,
     "metadata": {},
     "output_type": "execute_result"
    }
   ],
   "source": [
    "knn.fit(x_train, y_train)"
   ]
  },
  {
   "cell_type": "code",
   "execution_count": 112,
   "id": "8d3063db",
   "metadata": {},
   "outputs": [],
   "source": [
    "y_pred= knn.predict(x_train)\n",
    "y_valid=knn.predict(x_validate)"
   ]
  },
  {
   "cell_type": "code",
   "execution_count": 108,
   "id": "e3d903e2",
   "metadata": {},
   "outputs": [
    {
     "name": "stdout",
     "output_type": "stream",
     "text": [
      "Accuracy of KNN classifier on training set: 0.74\n"
     ]
    }
   ],
   "source": [
    "print('Accuracy of KNN classifier on training set: {:.2f}'\n",
    "     .format(knn.score(x_train, y_train)))"
   ]
  },
  {
   "cell_type": "code",
   "execution_count": 117,
   "id": "59547941",
   "metadata": {},
   "outputs": [
    {
     "ename": "ValueError",
     "evalue": "DataFrame constructor not properly called!",
     "output_type": "error",
     "traceback": [
      "\u001b[0;31m---------------------------------------------------------------------------\u001b[0m",
      "\u001b[0;31mValueError\u001b[0m                                Traceback (most recent call last)",
      "Input \u001b[0;32mIn [117]\u001b[0m, in \u001b[0;36m<cell line: 2>\u001b[0;34m()\u001b[0m\n\u001b[1;32m      7\u001b[0m train_classification\u001b[38;5;241m=\u001b[39mclassification_report(y_train,y_predict)\n\u001b[1;32m      8\u001b[0m validate_classification\u001b[38;5;241m=\u001b[39mclassification_report(y_validate,y_valid)\n\u001b[0;32m----> 9\u001b[0m trai_df\u001b[38;5;241m=\u001b[39m\u001b[43mpd\u001b[49m\u001b[38;5;241;43m.\u001b[39;49m\u001b[43mDataFrame\u001b[49m\u001b[43m(\u001b[49m\u001b[43mtrain_classification\u001b[49m\u001b[43m)\u001b[49m\n\u001b[1;32m     10\u001b[0m valid_df\u001b[38;5;241m=\u001b[39mpd\u001b[38;5;241m.\u001b[39mDataFrame(validate_classification)\n\u001b[1;32m     11\u001b[0m result \u001b[38;5;241m=\u001b[39m {\n\u001b[1;32m     12\u001b[0m     \u001b[38;5;124m\"\u001b[39m\u001b[38;5;124mmax_depth\u001b[39m\u001b[38;5;124m\"\u001b[39m: num,\n\u001b[1;32m     13\u001b[0m     \u001b[38;5;124m\"\u001b[39m\u001b[38;5;124mtrain_accuracy\u001b[39m\u001b[38;5;124m\"\u001b[39m: train_accuracy,\n\u001b[0;32m   (...)\u001b[0m\n\u001b[1;32m     16\u001b[0m     \u001b[38;5;124m'\u001b[39m\u001b[38;5;124mvalidate_rep\u001b[39m\u001b[38;5;124m'\u001b[39m:valid_df\u001b[38;5;241m.\u001b[39mprecision\n\u001b[1;32m     17\u001b[0m }\n",
      "File \u001b[0;32m/opt/homebrew/anaconda3/lib/python3.9/site-packages/pandas/core/frame.py:756\u001b[0m, in \u001b[0;36mDataFrame.__init__\u001b[0;34m(self, data, index, columns, dtype, copy)\u001b[0m\n\u001b[1;32m    753\u001b[0m \u001b[38;5;66;03m# For data is scalar\u001b[39;00m\n\u001b[1;32m    754\u001b[0m \u001b[38;5;28;01melse\u001b[39;00m:\n\u001b[1;32m    755\u001b[0m     \u001b[38;5;28;01mif\u001b[39;00m index \u001b[38;5;129;01mis\u001b[39;00m \u001b[38;5;28;01mNone\u001b[39;00m \u001b[38;5;129;01mor\u001b[39;00m columns \u001b[38;5;129;01mis\u001b[39;00m \u001b[38;5;28;01mNone\u001b[39;00m:\n\u001b[0;32m--> 756\u001b[0m         \u001b[38;5;28;01mraise\u001b[39;00m \u001b[38;5;167;01mValueError\u001b[39;00m(\u001b[38;5;124m\"\u001b[39m\u001b[38;5;124mDataFrame constructor not properly called!\u001b[39m\u001b[38;5;124m\"\u001b[39m)\n\u001b[1;32m    758\u001b[0m     \u001b[38;5;66;03m# Argument 1 to \"ensure_index\" has incompatible type \"Collection[Any]\";\u001b[39;00m\n\u001b[1;32m    759\u001b[0m     \u001b[38;5;66;03m# expected \"Union[Union[Union[ExtensionArray, ndarray],\u001b[39;00m\n\u001b[1;32m    760\u001b[0m     \u001b[38;5;66;03m# Index, Series], Sequence[Any]]\"\u001b[39;00m\n\u001b[1;32m    761\u001b[0m     index \u001b[38;5;241m=\u001b[39m ensure_index(index)  \u001b[38;5;66;03m# type: ignore[arg-type]\u001b[39;00m\n",
      "\u001b[0;31mValueError\u001b[0m: DataFrame constructor not properly called!"
     ]
    }
   ],
   "source": [
    "model=[]\n",
    "for num in range (2,20):\n",
    "    knn = KNeighborsClassifier(n_neighbors=num, weights='uniform')\n",
    "    knn=knn.fit(x_train, y_train)\n",
    "    train_accuracy=knn.score(x_train,y_train)\n",
    "    validate_accuracy=knn.score(x_validate,y_validate)\n",
    "    train_classification=classification_report(y_train,y_predict)\n",
    "    validate_classification=classification_report(y_validate,y_valid)\n",
    "    trai_df=pd.DataFrame(train_classification)\n",
    "    valid_df=pd.DataFrame(validate_classification)\n",
    "    result = {\n",
    "        \"max_depth\": num,\n",
    "        \"train_accuracy\": train_accuracy,\n",
    "        \"validate_accuracy\": validate_accuracy,\n",
    "        'train_rep':train_df.precision,\n",
    "        'validate_rep':valid_df.precision\n",
    "    }\n",
    "    model.append(result)\n",
    "test_validate = pd.DataFrame(model)\n",
    "test_validate[\"difference\"] = test_validate.train_accuracy - test_validate.validate_accuracy\n",
    "test_validate"
   ]
  },
  {
   "cell_type": "code",
   "execution_count": null,
   "id": "9f4c457b",
   "metadata": {},
   "outputs": [],
   "source": []
  }
 ],
 "metadata": {
  "kernelspec": {
   "display_name": "Python 3 (ipykernel)",
   "language": "python",
   "name": "python3"
  },
  "language_info": {
   "codemirror_mode": {
    "name": "ipython",
    "version": 3
   },
   "file_extension": ".py",
   "mimetype": "text/x-python",
   "name": "python",
   "nbconvert_exporter": "python",
   "pygments_lexer": "ipython3",
   "version": "3.9.12"
  }
 },
 "nbformat": 4,
 "nbformat_minor": 5
}
